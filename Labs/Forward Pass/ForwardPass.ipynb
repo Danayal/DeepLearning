{
 "cells": [
  {
   "cell_type": "markdown",
   "metadata": {},
   "source": [
    "<h1>Danayal Khan \n",
    "b00069350</h1>\n",
    "\n",
    "<h3>Lab 4 - Deep Learning and Neural Networks</h3>"
   ]
  },
  {
   "cell_type": "code",
   "execution_count": 1,
   "metadata": {},
   "outputs": [],
   "source": [
    "import numpy as np"
   ]
  },
  {
   "cell_type": "code",
   "execution_count": 2,
   "metadata": {},
   "outputs": [
    {
     "name": "stdout",
     "output_type": "stream",
     "text": [
      "w1 = \n",
      " [0.9] \n",
      "\n",
      " w2 = \n",
      " [0.9]\n",
      "\n",
      "a0 =  [2] \n",
      "\n",
      "z1 =  1.8 \n",
      "\n",
      "a1 =  1.8 \n",
      "\n",
      "z2 =  [1.62] \n",
      "\n",
      "a2 =  [1.62]\n"
     ]
    }
   ],
   "source": [
    "# Exercise: 1 Lab 4\n",
    "\n",
    "def relu(X):\n",
    "   return np.maximum(0,X)\n",
    "\n",
    "def loss(x,y):\n",
    "    return abs(x-y)\n",
    "\n",
    "# using arbirary weights\n",
    "w1 = np.array([0.9])\n",
    "w2 = np.array([0.9])\n",
    "\n",
    "print(\"w1 = \\n\", w1,\"\\n\\n w2 = \\n\", w2)\n",
    "\n",
    "\n",
    "def forward(a0, weight1, weight2):\n",
    "    z1 = np.dot(a0, weight1)\n",
    "    a1 = relu(z1)\n",
    "    z2 = np.dot(a1, weight2)\n",
    "    a2 = relu(z2)\n",
    "    print (\"\\na0 = \", a0, \"\\n\\nz1 = \", z1, \"\\n\\na1 = \" ,a1, \"\\n\\nz2 = \" , z2 , \"\\n\\na2 = \" , a2)\n",
    "\n",
    "    #return loss(a2[0][0],y)\n",
    "\n",
    "a0 = np.array([2])\n",
    "\n",
    "forward(a0,w1, w2)\n",
    "\n",
    "\n"
   ]
  },
  {
   "cell_type": "code",
   "execution_count": 3,
   "metadata": {},
   "outputs": [
    {
     "name": "stdout",
     "output_type": "stream",
     "text": [
      "w1 = \n",
      " [[-1.66603665  2.43597174  2.20646597]] \n",
      "\n",
      " w2 = \n",
      " [[0.07772933]\n",
      " [2.14712963]\n",
      " [1.42983296]]\n",
      "\n",
      "a0 =  [2] \n",
      "\n",
      "z1 =  [-3.33207329  4.87194347  4.41293194] \n",
      "\n",
      "a1 =  [0.         4.87194347 4.41293194] \n",
      "\n",
      "z2 =  [16.77044972] \n",
      "\n",
      "a2 =  [16.77044972]\n"
     ]
    }
   ],
   "source": [
    "#Exercise: 2 Lab 4\n",
    "\n",
    "\n",
    "def relu(X):\n",
    "   return np.maximum(0,X)\n",
    "\n",
    "def loss(x,y):\n",
    "    return abs(x-y)\n",
    "\n",
    "# using arbirary weights\n",
    "#subtracting by -0.5 to get negative values as well. np.random.random() by default returns values between 0 and 1\n",
    "\n",
    "w1 = 5 * ( np.random.random((1,3)) -0.5 ) \n",
    "w2 = 5 * ( np.random.random((3,1)) -0.5 ) \n",
    "\n",
    "\n",
    "print(\"w1 = \\n\", w1,\"\\n\\n w2 = \\n\", w2)\n",
    "\n",
    "\n",
    "\n",
    "\n",
    "def forward(a0, weight1, weight2):\n",
    "    z1 = np.dot(a0, weight1)\n",
    "    a1 = relu(z1)\n",
    "    z2 = np.dot(a1, weight2)\n",
    "    a2 = relu(z2)\n",
    "\n",
    "    \n",
    "    print (\"\\na0 = \", a0, \"\\n\\nz1 = \", z1, \"\\n\\na1 = \" ,a1, \"\\n\\nz2 = \" , z2 , \"\\n\\na2 = \" , a2)\n",
    "\n",
    "\n",
    "a0 = np.array([2])\n",
    "\n",
    "forward(a0,w1, w2)\n",
    "\n",
    "\n",
    "\n",
    "\n",
    "\n"
   ]
  },
  {
   "cell_type": "code",
   "execution_count": 4,
   "metadata": {},
   "outputs": [
    {
     "name": "stdout",
     "output_type": "stream",
     "text": [
      "w1 = \n",
      " [[-0.87005068 -1.58997409]\n",
      " [ 1.23292953  2.46232028]\n",
      " [ 1.74379668  0.57444651]\n",
      " [ 0.04148326  1.97511152]] \n",
      "\n",
      " w2 = \n",
      " [[ 0.14473889  0.16505019 -1.26457538]\n",
      " [ 0.01379651  1.09901151  1.77594831]]\n",
      "\n",
      "a0 =  [0.81264657 0.30701806 0.98004804 0.72382271] \n",
      "\n",
      "z1 =  [1.41051895 1.45650554] \n",
      "\n",
      "a1 =  [1.41051895 1.45650554] \n",
      "\n",
      "z2 =  [0.22425164 1.83352278 0.80297102] \n",
      "\n",
      "a2 =  [0.22425164 1.83352278 0.80297102]\n"
     ]
    }
   ],
   "source": [
    "#Exercise: 3 Lab 4\n",
    "\n",
    "\n",
    "def relu(X):\n",
    "   return np.maximum(0,X)\n",
    "\n",
    "def loss(x,y):\n",
    "    return abs(x-y)\n",
    "\n",
    "# using arbirary weights\n",
    "#subtracting by -0.5 to get negative values as well. np.random.random() by default returns values between 0 and 1\n",
    "\n",
    "w1 = 5 * ( np.random.random((4,2)) -0.5 ) \n",
    "w2 = 5 * ( np.random.random((2,3)) -0.5 ) \n",
    "\n",
    "\n",
    "print(\"w1 = \\n\", w1,\"\\n\\n w2 = \\n\", w2)\n",
    "\n",
    "\n",
    "\n",
    "\n",
    "def forward(a0, weight1, weight2):\n",
    "    z1 = np.dot(a0, weight1)\n",
    "    a1 = relu(z1)\n",
    "    z2 = np.dot(a1, weight2)\n",
    "    a2 = relu(z2)\n",
    "\n",
    "    \n",
    "    print (\"\\na0 = \", a0, \"\\n\\nz1 = \", z1, \"\\n\\na1 = \" ,a1, \"\\n\\nz2 = \" , z2 , \"\\n\\na2 = \" , a2)\n",
    "\n",
    "\n",
    "a0 = np.random.random(4)\n",
    "\n",
    "forward(a0,w1, w2)\n",
    "\n",
    "\n",
    "\n",
    "\n",
    "\n"
   ]
  }
 ],
 "metadata": {
  "kernelspec": {
   "display_name": "Python 3",
   "language": "python",
   "name": "python3"
  },
  "language_info": {
   "codemirror_mode": {
    "name": "ipython",
    "version": 3
   },
   "file_extension": ".py",
   "mimetype": "text/x-python",
   "name": "python",
   "nbconvert_exporter": "python",
   "pygments_lexer": "ipython3",
   "version": "3.7.6"
  }
 },
 "nbformat": 4,
 "nbformat_minor": 4
}
