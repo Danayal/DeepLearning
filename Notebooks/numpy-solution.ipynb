{
 "cells": [
  {
   "cell_type": "code",
   "execution_count": 3,
   "metadata": {},
   "outputs": [
    {
     "name": "stdout",
     "output_type": "stream",
     "text": [
      "Requirement already satisfied: numpy in /Users/izualkernan/opt/anaconda3/envs/tensor_test/lib/python3.6/site-packages (1.16.1)\r\n"
     ]
    }
   ],
   "source": [
    "# Please make sure all the libraries are installed\n",
    "\n",
    "import sys\n",
    "!{sys.executable} -m pip install numpy\n",
    "\n",
    "import numpy as np"
   ]
  },
  {
   "cell_type": "code",
   "execution_count": 10,
   "metadata": {},
   "outputs": [
    {
     "data": {
      "text/plain": [
       "array([[1, 2, 3, 4],\n",
       "       [5, 6, 7, 8]])"
      ]
     },
     "execution_count": 10,
     "metadata": {},
     "output_type": "execute_result"
    }
   ],
   "source": [
    "# Create a simple array \n",
    "a = np.array([[1,2,3,4], [5,6,7,8]])\n",
    "a\n",
    "\n"
   ]
  },
  {
   "cell_type": "code",
   "execution_count": 12,
   "metadata": {},
   "outputs": [
    {
     "name": "stdout",
     "output_type": "stream",
     "text": [
      "2\n",
      "<memory at 0x114dc3120>\n",
      "(2, 4)\n",
      "int64\n",
      "(32, 8)\n"
     ]
    }
   ],
   "source": [
    "# Let us view different attributes of this array \n",
    "\n",
    "# Print out the dimension of the array -- This is a two dimensional array\n",
    "print(a.ndim)\n",
    "\n",
    "# Print out memory address (pointer) - some arbitrary pointer\n",
    "print(a.data)\n",
    "\n",
    "# Print out the shape (row, columns) - this has two rows and 4 columns\n",
    "print(a.shape)\n",
    "\n",
    "# Print out the data type (e.g., int64) - is integer 64\n",
    "print(a.dtype)\n",
    "\n",
    "# Print out the stride. 8 bytes to get to the next element because it is int64 (which is 8 bytes each)\n",
    "# Since there are 4 elements in each row, need to skip 4x8 = 32 bytes to get to the next row. \n",
    "print(a.strides)\n"
   ]
  },
  {
   "cell_type": "code",
   "execution_count": 15,
   "metadata": {},
   "outputs": [
    {
     "data": {
      "text/plain": [
       "array([1, 2, 3, 4])"
      ]
     },
     "execution_count": 15,
     "metadata": {},
     "output_type": "execute_result"
    }
   ],
   "source": [
    "#Exercise: Create a 1-D array and explain all it's attributes. \n",
    "\n",
    "# Create a simple array \n",
    "b = np.array([1,2,3,4])\n",
    "b"
   ]
  },
  {
   "cell_type": "code",
   "execution_count": 16,
   "metadata": {},
   "outputs": [
    {
     "name": "stdout",
     "output_type": "stream",
     "text": [
      "1\n",
      "<memory at 0x114cf9e88>\n",
      "(4,)\n",
      "int64\n",
      "(8,)\n"
     ]
    }
   ],
   "source": [
    "# Let us view different attributes of this array \n",
    "\n",
    "# Print out the dimension of the array -- This is a one dimensional array\n",
    "print(b.ndim)\n",
    "\n",
    "# Print out memory address (pointer) - some arbitrary pointer\n",
    "print(b.data)\n",
    "\n",
    "# Print out the shape (row, columns) - this is strange in that it has four rows and no columns.\n",
    "print(b.shape)\n",
    "\n",
    "# Print out the data type (e.g., int64) - is integer 64\n",
    "print(b.dtype)\n",
    "\n",
    "# Print out the stride. 8 bytes to get to the next element because it is int64 (which is 8 bytes each)\n",
    "# No columns so no bytes to get to the next row. \n",
    "print(b.strides)"
   ]
  },
  {
   "cell_type": "code",
   "execution_count": 17,
   "metadata": {},
   "outputs": [
    {
     "data": {
      "text/plain": [
       "array([[1, 2, 3, 4]])"
      ]
     },
     "execution_count": 17,
     "metadata": {},
     "output_type": "execute_result"
    }
   ],
   "source": [
    "#Exercise: Create a 2-D array with a single row and explain it's attributes\n",
    "\n",
    "# Create a simple array. Compare this to the 1-D from before and see the difference. \n",
    "c = np.array([[1,2,3,4]])\n",
    "c"
   ]
  },
  {
   "cell_type": "code",
   "execution_count": 18,
   "metadata": {},
   "outputs": [
    {
     "name": "stdout",
     "output_type": "stream",
     "text": [
      "2\n",
      "<memory at 0x114dc3120>\n",
      "(1, 4)\n",
      "int64\n",
      "(32, 8)\n"
     ]
    }
   ],
   "source": [
    "# Let us view different attributes of this array \n",
    "\n",
    "# Print out the dimension of the array -- This is a 2 dimensional array\n",
    "print(c.ndim)\n",
    "\n",
    "# Print out memory address (pointer) - some arbitrary pointer\n",
    "print(c.data)\n",
    "\n",
    "# Print out the shape (row, columns) - It has 1 row and 4 columns\n",
    "print(c.shape)\n",
    "\n",
    "# Print out the data type (e.g., int64) - is integer 64\n",
    "print(c.dtype)\n",
    "\n",
    "# Print out the stride. 8 bytes to get to the next element because it is int64 (which is 8 bytes each)\n",
    "# 32 bytes to go to the next row. \n",
    "print(c.strides)"
   ]
  },
  {
   "cell_type": "code",
   "execution_count": 19,
   "metadata": {},
   "outputs": [
    {
     "data": {
      "text/plain": [
       "array([[[0., 0., 0., 0.],\n",
       "        [0., 0., 0., 0.],\n",
       "        [0., 0., 0., 0.]],\n",
       "\n",
       "       [[0., 0., 0., 0.],\n",
       "        [0., 0., 0., 0.],\n",
       "        [0., 0., 0., 0.]]])"
      ]
     },
     "execution_count": 19,
     "metadata": {},
     "output_type": "execute_result"
    }
   ],
   "source": [
    "# Let us do a 3 dimensional array with all zero's inside. \n",
    "\n",
    "a = np.zeros((2, 3, 4))\n",
    "a\n"
   ]
  },
  {
   "cell_type": "code",
   "execution_count": null,
   "metadata": {},
   "outputs": [],
   "source": [
    "# Exercise: Can you explain what number corresponds to row, column and depth?\n",
    "\n",
    "# 2 = depth\n",
    "# 3 = rows\n",
    "# 4 = columns\n"
   ]
  },
  {
   "cell_type": "code",
   "execution_count": 20,
   "metadata": {},
   "outputs": [
    {
     "name": "stdout",
     "output_type": "stream",
     "text": [
      "3\n",
      "<memory at 0x114b3bb88>\n",
      "(2, 3, 4)\n",
      "float64\n",
      "(96, 32, 8)\n"
     ]
    }
   ],
   "source": [
    "# Let us view different attributes of this array \n",
    "\n",
    "# Print out the dimension of the array -- This is a 2 dimensional array\n",
    "print(a.ndim)\n",
    "\n",
    "# Print out memory address (pointer) - some arbitrary pointer\n",
    "print(a.data)\n",
    "\n",
    "# Print out the shape (row, columns) - It has 3 rows, 4 columns and a depth of 2. \n",
    "print(a.shape)\n",
    "\n",
    "# Print out the data type (e.g., int64) - is integer 64\n",
    "print(a.dtype)\n",
    "\n",
    "# Print out the stride. 8 to go to next element, 32 to go to next row, 96 to go to next depth. \n",
    "print(a.strides)"
   ]
  },
  {
   "cell_type": "code",
   "execution_count": 21,
   "metadata": {},
   "outputs": [
    {
     "data": {
      "text/plain": [
       "array([[[[0., 0., 0., 0., 0.],\n",
       "         [0., 0., 0., 0., 0.],\n",
       "         [0., 0., 0., 0., 0.],\n",
       "         [0., 0., 0., 0., 0.]],\n",
       "\n",
       "        [[0., 0., 0., 0., 0.],\n",
       "         [0., 0., 0., 0., 0.],\n",
       "         [0., 0., 0., 0., 0.],\n",
       "         [0., 0., 0., 0., 0.]],\n",
       "\n",
       "        [[0., 0., 0., 0., 0.],\n",
       "         [0., 0., 0., 0., 0.],\n",
       "         [0., 0., 0., 0., 0.],\n",
       "         [0., 0., 0., 0., 0.]]],\n",
       "\n",
       "\n",
       "       [[[0., 0., 0., 0., 0.],\n",
       "         [0., 0., 0., 0., 0.],\n",
       "         [0., 0., 0., 0., 0.],\n",
       "         [0., 0., 0., 0., 0.]],\n",
       "\n",
       "        [[0., 0., 0., 0., 0.],\n",
       "         [0., 0., 0., 0., 0.],\n",
       "         [0., 0., 0., 0., 0.],\n",
       "         [0., 0., 0., 0., 0.]],\n",
       "\n",
       "        [[0., 0., 0., 0., 0.],\n",
       "         [0., 0., 0., 0., 0.],\n",
       "         [0., 0., 0., 0., 0.],\n",
       "         [0., 0., 0., 0., 0.]]]])"
      ]
     },
     "execution_count": 21,
     "metadata": {},
     "output_type": "execute_result"
    }
   ],
   "source": [
    "# Let us do a 4 dimensional array with all zero's inside. \n",
    "\n",
    "a = np.zeros((2, 3, 4, 5))\n",
    "a"
   ]
  },
  {
   "cell_type": "code",
   "execution_count": null,
   "metadata": {},
   "outputs": [],
   "source": [
    "# Exercise: Can you explain what number corresponds to row, column, and depth0 and depth1?\n",
    "\n",
    "# 2 = depth0\n",
    "# 3 = depth1\n",
    "# 4 = rows\n",
    "# 5 = columns"
   ]
  },
  {
   "cell_type": "code",
   "execution_count": 23,
   "metadata": {},
   "outputs": [
    {
     "data": {
      "text/plain": [
       "array([[1., 1., 1., 1.],\n",
       "       [1., 1., 1., 1.],\n",
       "       [1., 1., 1., 1.]])"
      ]
     },
     "execution_count": 23,
     "metadata": {},
     "output_type": "execute_result"
    }
   ],
   "source": [
    "# Create an array of ones\n",
    "a = np.ones((3,4))\n",
    "a"
   ]
  },
  {
   "cell_type": "code",
   "execution_count": 24,
   "metadata": {},
   "outputs": [
    {
     "data": {
      "text/plain": [
       "array([[[0, 0, 0, 0],\n",
       "        [0, 0, 0, 0],\n",
       "        [0, 0, 0, 0]],\n",
       "\n",
       "       [[0, 0, 0, 0],\n",
       "        [0, 0, 0, 0],\n",
       "        [0, 0, 0, 0]]], dtype=int16)"
      ]
     },
     "execution_count": 24,
     "metadata": {},
     "output_type": "execute_result"
    }
   ],
   "source": [
    "# Create an array of zeros\n",
    "b = np.zeros((2,3,4),dtype=np.int16)\n",
    "b"
   ]
  },
  {
   "cell_type": "code",
   "execution_count": 25,
   "metadata": {},
   "outputs": [
    {
     "data": {
      "text/plain": [
       "array([[0.64942916, 0.54286891],\n",
       "       [0.93040992, 0.80359044]])"
      ]
     },
     "execution_count": 25,
     "metadata": {},
     "output_type": "execute_result"
    }
   ],
   "source": [
    "# Create an array with random values\n",
    "c = np.random.random((2,2))\n",
    "c\n"
   ]
  },
  {
   "cell_type": "code",
   "execution_count": 26,
   "metadata": {},
   "outputs": [
    {
     "data": {
      "text/plain": [
       "array([[ 2.31584178e+077, -1.49457509e-154],\n",
       "       [ 1.48219694e-323,  0.00000000e+000],\n",
       "       [ 0.00000000e+000,  4.17201348e-309]])"
      ]
     },
     "execution_count": 26,
     "metadata": {},
     "output_type": "execute_result"
    }
   ],
   "source": [
    "# Create an empty array\n",
    "d = np.empty((3,2))\n",
    "d"
   ]
  },
  {
   "cell_type": "code",
   "execution_count": 27,
   "metadata": {},
   "outputs": [
    {
     "data": {
      "text/plain": [
       "array([[7, 7],\n",
       "       [7, 7]])"
      ]
     },
     "execution_count": 27,
     "metadata": {},
     "output_type": "execute_result"
    }
   ],
   "source": [
    "# Create a full array\n",
    "e = np.full((2,2),7)\n",
    "e"
   ]
  },
  {
   "cell_type": "code",
   "execution_count": 51,
   "metadata": {},
   "outputs": [
    {
     "data": {
      "text/plain": [
       "array([10, 15, 20])"
      ]
     },
     "execution_count": 51,
     "metadata": {},
     "output_type": "execute_result"
    }
   ],
   "source": [
    "# Create an array of evenly-spaced values 10 to 25 by 5\n",
    "f= np.arange(10,25,5)\n",
    "f"
   ]
  },
  {
   "cell_type": "code",
   "execution_count": 29,
   "metadata": {},
   "outputs": [
    {
     "data": {
      "text/plain": [
       "array([0.  , 0.25, 0.5 , 0.75, 1.  , 1.25, 1.5 , 1.75, 2.  ])"
      ]
     },
     "execution_count": 29,
     "metadata": {},
     "output_type": "execute_result"
    }
   ],
   "source": [
    "# Create an array of evenly-spaced values from 0 to 2 in nine increments\n",
    "g = np.linspace(0,2,9)\n",
    "g"
   ]
  },
  {
   "cell_type": "code",
   "execution_count": 30,
   "metadata": {},
   "outputs": [
    {
     "data": {
      "text/plain": [
       "array([[1., 0., 0., 0., 0., 0., 0., 0., 0., 0.],\n",
       "       [0., 1., 0., 0., 0., 0., 0., 0., 0., 0.],\n",
       "       [0., 0., 1., 0., 0., 0., 0., 0., 0., 0.],\n",
       "       [0., 0., 0., 1., 0., 0., 0., 0., 0., 0.],\n",
       "       [0., 0., 0., 0., 1., 0., 0., 0., 0., 0.],\n",
       "       [0., 0., 0., 0., 0., 1., 0., 0., 0., 0.],\n",
       "       [0., 0., 0., 0., 0., 0., 1., 0., 0., 0.],\n",
       "       [0., 0., 0., 0., 0., 0., 0., 1., 0., 0.],\n",
       "       [0., 0., 0., 0., 0., 0., 0., 0., 1., 0.],\n",
       "       [0., 0., 0., 0., 0., 0., 0., 0., 0., 1.]])"
      ]
     },
     "execution_count": 30,
     "metadata": {},
     "output_type": "execute_result"
    }
   ],
   "source": [
    "# Create adentity matrix diagonal is all zeros\n",
    "h= np.eye(10,10)\n",
    "h"
   ]
  },
  {
   "cell_type": "code",
   "execution_count": 39,
   "metadata": {},
   "outputs": [
    {
     "name": "stdout",
     "output_type": "stream",
     "text": [
      "[[7 7]\n",
      " [7 7]]\n",
      "[[7. 7.]\n",
      " [7. 7.]]\n"
     ]
    }
   ],
   "source": [
    "# We can change the type of an array using as_type\n",
    "e = np.full((2,2),7,dtype=np.int16)\n",
    "print(e)\n",
    "e = e.astype('float64') \n",
    "print(e)"
   ]
  },
  {
   "cell_type": "code",
   "execution_count": 40,
   "metadata": {},
   "outputs": [
    {
     "name": "stdout",
     "output_type": "stream",
     "text": [
      "[[2 3]\n",
      " [4 5]\n",
      " [6 7]]\n"
     ]
    }
   ],
   "source": [
    "# Example 1 of reshape\n",
    "x = np.array([[2,3,4], [5,6,7]])      \n",
    "y = np.reshape(x, (3, 2))\n",
    "print(y)\n"
   ]
  },
  {
   "cell_type": "code",
   "execution_count": 43,
   "metadata": {},
   "outputs": [
    {
     "name": "stdout",
     "output_type": "stream",
     "text": [
      "[[2 3 4]\n",
      " [5 6 7]]\n"
     ]
    }
   ],
   "source": [
    "# Example 2 of reshape\n",
    "\n",
    "x = np.array([[2,3,4], [5,6,7]]) \n",
    "y = np.reshape(x, (2, -1)) \n",
    "\n",
    "print(y)"
   ]
  },
  {
   "cell_type": "code",
   "execution_count": 45,
   "metadata": {},
   "outputs": [
    {
     "name": "stdout",
     "output_type": "stream",
     "text": [
      "[[2]\n",
      " [3]\n",
      " [4]\n",
      " [5]\n",
      " [6]\n",
      " [7]]\n"
     ]
    }
   ],
   "source": [
    "# Exercise -  create an array of a single column from x\n",
    "\n",
    "z = np.reshape(x, (-1, 1)) \n",
    "print(z)"
   ]
  },
  {
   "cell_type": "code",
   "execution_count": 46,
   "metadata": {},
   "outputs": [
    {
     "name": "stdout",
     "output_type": "stream",
     "text": [
      "[[2 3]\n",
      " [4 5]\n",
      " [6 7]]\n"
     ]
    }
   ],
   "source": [
    "# Example 3 of reshape\n",
    "\n",
    "x = np.array([[2,3,4], [5,6,7]]) \n",
    "y = np.reshape(x, (3, -1))\n",
    "\n",
    "print(y)"
   ]
  },
  {
   "cell_type": "code",
   "execution_count": 47,
   "metadata": {},
   "outputs": [
    {
     "name": "stdout",
     "output_type": "stream",
     "text": [
      "[2 3 4 5 6 7]\n"
     ]
    }
   ],
   "source": [
    "# Example 4 - going to 1-D\n",
    "\n",
    "x = np.array([[2,3,4], [5,6,7]])\n",
    "y = np.reshape(x, 6)\n",
    "\n",
    "print(y)\n"
   ]
  },
  {
   "cell_type": "code",
   "execution_count": 55,
   "metadata": {},
   "outputs": [
    {
     "data": {
      "text/plain": [
       "array([[[ 0,  1,  2],\n",
       "        [ 3,  4,  5],\n",
       "        [ 6,  7,  8]],\n",
       "\n",
       "       [[ 9, 10, 11],\n",
       "        [12, 13, 14],\n",
       "        [15, 16, 17]]])"
      ]
     },
     "execution_count": 55,
     "metadata": {},
     "output_type": "execute_result"
    }
   ],
   "source": [
    "# Exercise - Create 3 rows, 3 columns and depth = 2 array from x\n",
    "\n",
    "x = np.arange(18)\n",
    "x\n",
    "y = np.reshape(x,(2,3,3))\n",
    "y\n"
   ]
  },
  {
   "cell_type": "code",
   "execution_count": 57,
   "metadata": {},
   "outputs": [
    {
     "data": {
      "text/plain": [
       "array([[[1, 2, 3],\n",
       "        [4, 5, 6]]])"
      ]
     },
     "execution_count": 57,
     "metadata": {},
     "output_type": "execute_result"
    }
   ],
   "source": [
    "# Exercise - Create a 1x2x3 array from x\n",
    "x = np.array([[1,2],[3,4],[5,6]])\n",
    "x\n",
    "y = np.reshape(x,(1,2,3))\n",
    "y"
   ]
  },
  {
   "cell_type": "code",
   "execution_count": 91,
   "metadata": {},
   "outputs": [
    {
     "name": "stdout",
     "output_type": "stream",
     "text": [
      "[[1 0 2 0 0]\n",
      " [3 0 4 0 0]\n",
      " [5 0 6 0 0]\n",
      " [7 1 0 2 0]\n",
      " [0 3 0 4 0]]\n"
     ]
    }
   ],
   "source": [
    "# We can resize an array with padding\n",
    "\n",
    "A = np.array([[1,0,2,0],[0,3,0,4],[0,0,5,0],[6,0,0,7]])\n",
    "\n",
    "B = np.resize(A,(5,5))\n",
    "\n",
    "# Pads with zeroes\n",
    "print(B)"
   ]
  },
  {
   "cell_type": "code",
   "execution_count": 93,
   "metadata": {},
   "outputs": [
    {
     "name": "stdout",
     "output_type": "stream",
     "text": [
      "[[1 0 2]\n",
      " [0 0 3]\n",
      " [0 4 0]]\n"
     ]
    }
   ],
   "source": [
    "# Can we resize with smaller size\n",
    "\n",
    "A = np.array([[1,0,2,0],[0,3,0,4],[0,0,5,0],[6,0,0,7]])\n",
    "\n",
    "B = np.resize(A,(3,3))\n",
    "\n",
    "# Pads with zeroes\n",
    "print(B)\n"
   ]
  },
  {
   "cell_type": "code",
   "execution_count": 94,
   "metadata": {},
   "outputs": [
    {
     "name": "stdout",
     "output_type": "stream",
     "text": [
      "[1 0 2 0 0 3 0 4 0 0 5 0 6 0 0 7]\n"
     ]
    }
   ],
   "source": [
    "# Flattening an array \n",
    "\n",
    "A = np.array([[1,0,2,0],[0,3,0,4],[0,0,5,0],[6,0,0,7]])\n",
    "z = A.ravel()\n",
    "\n",
    "print(z)\n"
   ]
  },
  {
   "cell_type": "code",
   "execution_count": 60,
   "metadata": {},
   "outputs": [
    {
     "name": "stdout",
     "output_type": "stream",
     "text": [
      "[[ 8 10 12]\n",
      " [14 16 18]]\n"
     ]
    }
   ],
   "source": [
    "# Adding two arrays\n",
    "\n",
    "x = np.array([[1,2,3],[4,5,6]])\n",
    "y = np.array([[7,8,9],[10,11,12]])\n",
    "\n",
    "z = x+y\n",
    "print(z)"
   ]
  },
  {
   "cell_type": "code",
   "execution_count": 61,
   "metadata": {},
   "outputs": [
    {
     "name": "stdout",
     "output_type": "stream",
     "text": [
      "[[-6 -6 -6]\n",
      " [-6 -6 -6]]\n"
     ]
    }
   ],
   "source": [
    "# Subtracting two arrays\n",
    "\n",
    "x = np.array([[1,2,3],[4,5,6]])\n",
    "y = np.array([[7,8,9],[10,11,12]])\n",
    "\n",
    "z = x-y\n",
    "print(z)"
   ]
  },
  {
   "cell_type": "code",
   "execution_count": 62,
   "metadata": {},
   "outputs": [
    {
     "name": "stdout",
     "output_type": "stream",
     "text": [
      "[[0.5 1.  1.5]\n",
      " [2.  2.5 3. ]]\n"
     ]
    }
   ],
   "source": [
    "# Multiplying by a scalar\n",
    "\n",
    "x = np.array([[1,2,3],[4,5,6]])\n",
    "y = 0.5\n",
    "\n",
    "z = x*y\n",
    "print(z)"
   ]
  },
  {
   "cell_type": "code",
   "execution_count": 69,
   "metadata": {},
   "outputs": [
    {
     "name": "stdout",
     "output_type": "stream",
     "text": [
      "[[1. 2.]\n",
      " [3. 4.]]\n",
      "[[5. 6.]\n",
      " [7. 8.]]\n",
      "[[ 5. 12.]\n",
      " [21. 32.]]\n"
     ]
    }
   ],
   "source": [
    "# Array multipliction example\n",
    "\n",
    "A = np.array([[1,2],[3,4]],dtype=np.float)\n",
    "B = np.array([[5,6],[7,8]],dtype=np.float)\n",
    "\n",
    "print(A)\n",
    "print(B)\n",
    "\n",
    "\n",
    "C = A*B\n",
    "\n",
    "print(C)"
   ]
  },
  {
   "cell_type": "code",
   "execution_count": 71,
   "metadata": {},
   "outputs": [
    {
     "name": "stdout",
     "output_type": "stream",
     "text": [
      "[[1. 2.]\n",
      " [3. 4.]]\n",
      "[[5. 6.]\n",
      " [7. 8.]]\n",
      "[[19. 22.]\n",
      " [43. 50.]]\n"
     ]
    }
   ],
   "source": [
    "# Matrix multipliction example\n",
    "\n",
    "A = np.array([[1,2],[3,4]],dtype=np.float)\n",
    "B = np.array([[5,6],[7,8]],dtype=np.float)\n",
    "\n",
    "print(A)\n",
    "print(B)\n",
    "\n",
    "\n",
    "C = np.dot(A,B)\n",
    "\n",
    "print(C)"
   ]
  },
  {
   "cell_type": "code",
   "execution_count": 82,
   "metadata": {},
   "outputs": [
    {
     "name": "stdout",
     "output_type": "stream",
     "text": [
      "[[ 3 -4]\n",
      " [ 2  0]\n",
      " [-1  6]\n",
      " [ 5  1]]\n",
      "[[ 3  2 -1  5]\n",
      " [-4  0  6  1]]\n"
     ]
    }
   ],
   "source": [
    "# Transposing an array as a matrix\n",
    "\n",
    "a = np.array([[3,-4],[2,0],[-1,6],[5,1]])\n",
    "print(a)\n",
    "b = a.T\n",
    "print(b)"
   ]
  },
  {
   "cell_type": "code",
   "execution_count": 85,
   "metadata": {},
   "outputs": [
    {
     "name": "stdout",
     "output_type": "stream",
     "text": [
      "[ 4 47  5 68]\n"
     ]
    }
   ],
   "source": [
    "# Multiplying a matrix with a vector using arrays\n",
    "\n",
    "A = np.array([[1,0,2,0],[0,3,0,4],[0,0,5,0],[6,0,0,7]])\n",
    "x = np.array([2,5,1,8])\n",
    "\n",
    "B = np.dot(A,x)\n",
    "\n",
    "print(B)"
   ]
  },
  {
   "cell_type": "code",
   "execution_count": 89,
   "metadata": {},
   "outputs": [
    {
     "name": "stdout",
     "output_type": "stream",
     "text": [
      "[ 4 47  5 68]\n"
     ]
    }
   ],
   "source": [
    "# Multiplying a matrix with a vector using arrays and transposing\n",
    "\n",
    "A = np.array([[1,0,2,0],[0,3,0,4],[0,0,5,0],[6,0,0,7]])\n",
    "x = np.array([[2,5,1,8]])\n",
    "\n",
    "# transpose x so it can be multiplied\n",
    "x = x.T\n",
    "\n",
    "# multiply\n",
    "B = np.dot(A,x)\n",
    "\n",
    "# reshape B into a 1-D vector\n",
    "B = B.reshape(4)\n",
    "print(B)"
   ]
  },
  {
   "cell_type": "code",
   "execution_count": 79,
   "metadata": {},
   "outputs": [
    {
     "name": "stdout",
     "output_type": "stream",
     "text": [
      "[[ True False]\n",
      " [False  True]]\n",
      "[[1 0]\n",
      " [0 1]]\n"
     ]
    }
   ],
   "source": [
    "# Doing logical operators with arrays \n",
    "\n",
    "a = np.array([[1,2],[3,4]])\n",
    "b = np.eye(2,2)\n",
    "\n",
    "c = np.logical_and(a,b)\n",
    "print(c)\n",
    "\n",
    "# convert back to int\n",
    "d = c.astype('int16')\n",
    "print(d)"
   ]
  },
  {
   "cell_type": "code",
   "execution_count": 80,
   "metadata": {},
   "outputs": [
    {
     "name": "stdout",
     "output_type": "stream",
     "text": [
      "True\n"
     ]
    }
   ],
   "source": [
    "# Comparing two arrays\n",
    "\n",
    "a = np.array([[1,2],[3,4]])\n",
    "b = np.eye(2,2)\n",
    "\n",
    "c = np.dot(a,b)\n",
    "\n",
    "print(np.array_equal(a,c))\n"
   ]
  },
  {
   "cell_type": "code",
   "execution_count": 103,
   "metadata": {},
   "outputs": [
    {
     "name": "stdout",
     "output_type": "stream",
     "text": [
      "[[1 0 2 0]\n",
      " [0 3 0 4]\n",
      " [0 0 5 0]\n",
      " [6 0 0 7]]\n",
      "7\n",
      "[6 3 5 7]\n",
      "[2 4 5 7]\n"
     ]
    }
   ],
   "source": [
    "# Taking the max of the array\n",
    "A = np.array([[1,0,2,0],[0,3,0,4],[0,0,5,0],[6,0,0,7]])\n",
    "\n",
    "print(A)\n",
    "\n",
    "print(A.max())\n",
    "print(A.max(0))\n",
    "print(A.max(1))"
   ]
  },
  {
   "cell_type": "code",
   "execution_count": 118,
   "metadata": {},
   "outputs": [
    {
     "name": "stdout",
     "output_type": "stream",
     "text": [
      "[[1 0 2 0]\n",
      " [0 3 0 4]\n",
      " [0 0 5 0]\n",
      " [6 0 0 7]]\n",
      "1.75\n",
      "[1.75 0.75 1.75 2.75]\n",
      "[0.75 1.75 1.25 3.25]\n"
     ]
    }
   ],
   "source": [
    "# Exercise -- Do the array, column-wise and row-wise mean of A\n",
    "\n",
    "A = np.array([[1,0,2,0],[0,3,0,4],[0,0,5,0],[6,0,0,7]])\n",
    "\n",
    "print(A)\n",
    "\n",
    "print(A.mean())\n",
    "print(A.mean(0))\n",
    "print(A.mean(1))"
   ]
  },
  {
   "cell_type": "code",
   "execution_count": 122,
   "metadata": {},
   "outputs": [
    {
     "name": "stdout",
     "output_type": "stream",
     "text": [
      "[[1 0 2 0]\n",
      " [0 3 0 4]\n",
      " [0 0 5 0]\n",
      " [6 0 0 7]]\n",
      "0.0\n",
      "[0.5 0.  1.  2. ]\n",
      "[0.5 1.5 0.  3. ]\n"
     ]
    }
   ],
   "source": [
    "# Exercise -- Do the array, column-wise and row-wise median of A \n",
    "\n",
    "A = np.array([[1,0,2,0],[0,3,0,4],[0,0,5,0],[6,0,0,7]])\n",
    "\n",
    "print(A)\n",
    "\n",
    "print(np.median(A))\n",
    "print(np.median(A,axis=0))\n",
    "print(np.median(A,axis=1))\n"
   ]
  },
  {
   "cell_type": "code",
   "execution_count": 124,
   "metadata": {},
   "outputs": [
    {
     "name": "stdout",
     "output_type": "stream",
     "text": [
      "[[1 0 2 0]\n",
      " [0 3 0 4]\n",
      " [0 0 5 0]\n",
      " [6 0 0 7]]\n",
      "[[ 1.         -0.88662069  0.87038828 -0.34585723]\n",
      " [-0.88662069  1.         -0.56591646  0.2248724 ]\n",
      " [ 0.87038828 -0.56591646  1.         -0.57396402]\n",
      " [-0.34585723  0.2248724  -0.57396402  1.        ]]\n"
     ]
    }
   ],
   "source": []
  },
  {
   "cell_type": "code",
   "execution_count": 135,
   "metadata": {},
   "outputs": [
    {
     "name": "stdout",
     "output_type": "stream",
     "text": [
      "[[0.77060761 0.08273752 0.42057445 0.66329555]\n",
      " [0.77310994 0.26497958 0.87831131 0.66039794]]\n",
      "[[2 3]]\n",
      "[[3.86054503 0.96041379 3.47608282 3.3077849 ]]\n",
      "(1, 2)\n",
      "(2, 4)\n",
      "(1, 4)\n"
     ]
    }
   ],
   "source": [
    "# Exercise: Write a program that calculates the outputs of the first\n",
    "# layer in the neural network in the slides. \n",
    "# with no activation function\n",
    "# Assume random weights for the first layer\n",
    "\n",
    "weight1 = np.random.random((2,4))\n",
    "print(weight1)\n",
    "\n",
    "input = np.array([[2,3]])\n",
    "print(input)\n",
    "\n",
    "out1 = np.dot(input,weight1)\n",
    "\n",
    "print(out1)\n",
    "\n",
    "# print shapes\n",
    "print(input.shape)\n",
    "print(weight1.shape)\n",
    "print(out1.shape)\n"
   ]
  },
  {
   "cell_type": "code",
   "execution_count": 145,
   "metadata": {},
   "outputs": [
    {
     "name": "stdout",
     "output_type": "stream",
     "text": [
      "[[0.67141739 0.34266043 0.97820841 0.59641311]\n",
      " [0.47891273 0.31593436 0.44046009 0.46055303]]\n",
      "[[0.24210622]\n",
      " [0.63023305]\n",
      " [0.20012261]\n",
      " [0.55389906]]\n",
      "[[2 3]]\n",
      "[[2.77957295 1.63312395 3.27779709 2.57448529]]\n",
      "[[3.78416687]]\n",
      "3.7841668677967917\n"
     ]
    }
   ],
   "source": [
    "# Exercise: Write a program that calculates the final output of NN\n",
    "# with ReLU activation function on all nodes\n",
    "# Assume random weights for the both layers\n",
    "\n",
    "def relu(X):\n",
    "   return np.maximum(0,X)\n",
    "\n",
    "weight1 = np.random.random((2,4))\n",
    "print(weight1)\n",
    "weight2 = np.random.random((4,1))\n",
    "print(weight2)\n",
    "\n",
    "input = np.array([[2,3]])\n",
    "print(input)\n",
    "\n",
    "out1 = relu(np.dot(input,weight1))\n",
    "print(out1)\n",
    "# note we need to transform out1\n",
    "out2 = relu(np.dot(out1, weight2))\n",
    "print(out2)\n",
    "print(out2[0][0])\n"
   ]
  },
  {
   "cell_type": "code",
   "execution_count": 153,
   "metadata": {},
   "outputs": [
    {
     "name": "stdout",
     "output_type": "stream",
     "text": [
      "2.25673\n"
     ]
    }
   ],
   "source": [
    "# Exercise:  Write a forward function that returns the error between actual\n",
    "# and predicted value calculated \n",
    "\n",
    "# x is a numpy array\n",
    "# y is a number\n",
    "# weights are numpy arrays\n",
    "# initial weights \n",
    "\n",
    "# using arbirary weights\n",
    "w1 = np.array([[0, -0.2, 0.5, -0.01],[0.3, -0.2, -0.1,0.9]])\n",
    "w2 = np.array([[0.1, -0.1, 0.0001, 0.99]])\n",
    "w2 = w2.T  #to get the right shape for multiply\n",
    "\n",
    "def forward(x,y, weight1, weight2):\n",
    "    out1 = relu(np.dot(input,weight1))\n",
    "    out2 = relu(np.dot(out1, weight2))\n",
    "    return abs(out2[0][0]-y)\n",
    "\n",
    "x = np.array([[2,3]])\n",
    "y = 5\n",
    "\n",
    "print(forward(x,y,w1, w2))"
   ]
  },
  {
   "cell_type": "code",
   "execution_count": null,
   "metadata": {},
   "outputs": [],
   "source": []
  }
 ],
 "metadata": {
  "kernelspec": {
   "display_name": "Python 3",
   "language": "python",
   "name": "python3"
  },
  "language_info": {
   "codemirror_mode": {
    "name": "ipython",
    "version": 3
   },
   "file_extension": ".py",
   "mimetype": "text/x-python",
   "name": "python",
   "nbconvert_exporter": "python",
   "pygments_lexer": "ipython3",
   "version": "3.6.9"
  }
 },
 "nbformat": 4,
 "nbformat_minor": 2
}
