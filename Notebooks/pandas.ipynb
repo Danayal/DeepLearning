{
 "cells": [
  {
   "cell_type": "code",
   "execution_count": 4,
   "metadata": {},
   "outputs": [
    {
     "name": "stdout",
     "output_type": "stream",
     "text": [
      "Collecting pandas\n",
      "\u001b[?25l  Downloading https://files.pythonhosted.org/packages/51/35/c423a72da15788cad5de23d5b633da4eacaccdb5bba0d10be604fb08f192/pandas-1.0.1-cp36-cp36m-macosx_10_9_x86_64.whl (9.9MB)\n",
      "\u001b[K     |████████████████████████████████| 9.9MB 4.6MB/s eta 0:00:01\n",
      "\u001b[?25hRequirement already satisfied: python-dateutil>=2.6.1 in /Users/izualkernan/opt/anaconda3/envs/tensor_test/lib/python3.6/site-packages (from pandas) (2.8.1)\n",
      "Requirement already satisfied: numpy>=1.13.3 in /Users/izualkernan/opt/anaconda3/envs/tensor_test/lib/python3.6/site-packages (from pandas) (1.16.1)\n",
      "Collecting pytz>=2017.2\n",
      "\u001b[?25l  Downloading https://files.pythonhosted.org/packages/e7/f9/f0b53f88060247251bf481fa6ea62cd0d25bf1b11a87888e53ce5b7c8ad2/pytz-2019.3-py2.py3-none-any.whl (509kB)\n",
      "\u001b[K     |████████████████████████████████| 512kB 56.7MB/s eta 0:00:01\n",
      "\u001b[?25hRequirement already satisfied: six>=1.5 in /Users/izualkernan/opt/anaconda3/envs/tensor_test/lib/python3.6/site-packages (from python-dateutil>=2.6.1->pandas) (1.13.0)\n",
      "Installing collected packages: pytz, pandas\n",
      "Successfully installed pandas-1.0.1 pytz-2019.3\n"
     ]
    }
   ],
   "source": [
    "import sys\n",
    "!{sys.executable} -m pip install pandas\n"
   ]
  },
  {
   "cell_type": "code",
   "execution_count": 6,
   "metadata": {},
   "outputs": [],
   "source": [
    "import pandas as pd\n"
   ]
  },
  {
   "cell_type": "code",
   "execution_count": 29,
   "metadata": {},
   "outputs": [],
   "source": [
    "df = pd.read_csv('BikeQ12018.csv',index_col=\"trip_id\")\n"
   ]
  },
  {
   "cell_type": "code",
   "execution_count": 8,
   "metadata": {},
   "outputs": [
    {
     "data": {
      "text/html": [
       "<div>\n",
       "<style scoped>\n",
       "    .dataframe tbody tr th:only-of-type {\n",
       "        vertical-align: middle;\n",
       "    }\n",
       "\n",
       "    .dataframe tbody tr th {\n",
       "        vertical-align: top;\n",
       "    }\n",
       "\n",
       "    .dataframe thead th {\n",
       "        text-align: right;\n",
       "    }\n",
       "</style>\n",
       "<table border=\"1\" class=\"dataframe\">\n",
       "  <thead>\n",
       "    <tr style=\"text-align: right;\">\n",
       "      <th></th>\n",
       "      <th>trip_id</th>\n",
       "      <th>trip_duration_seconds</th>\n",
       "      <th>from_station_id</th>\n",
       "      <th>trip_start_time</th>\n",
       "      <th>from_station_name</th>\n",
       "      <th>trip_stop_time</th>\n",
       "      <th>to_station_id</th>\n",
       "      <th>to_station_name</th>\n",
       "      <th>user_type</th>\n",
       "    </tr>\n",
       "  </thead>\n",
       "  <tbody>\n",
       "    <tr>\n",
       "      <th>0</th>\n",
       "      <td>2383648</td>\n",
       "      <td>393</td>\n",
       "      <td>7018</td>\n",
       "      <td>1/1/2018 0:47</td>\n",
       "      <td>Bremner Blvd / Rees St</td>\n",
       "      <td>1/1/2018 0:54</td>\n",
       "      <td>7176</td>\n",
       "      <td>Bathurst St / Fort York Blvd</td>\n",
       "      <td>Annual Member</td>\n",
       "    </tr>\n",
       "    <tr>\n",
       "      <th>1</th>\n",
       "      <td>2383649</td>\n",
       "      <td>625</td>\n",
       "      <td>7184</td>\n",
       "      <td>1/1/2018 0:52</td>\n",
       "      <td>Ossington Ave / College St</td>\n",
       "      <td>1/1/2018 1:03</td>\n",
       "      <td>7191</td>\n",
       "      <td>Central Tech  (Harbord St)</td>\n",
       "      <td>Annual Member</td>\n",
       "    </tr>\n",
       "    <tr>\n",
       "      <th>2</th>\n",
       "      <td>2383650</td>\n",
       "      <td>233</td>\n",
       "      <td>7235</td>\n",
       "      <td>1/1/2018 0:55</td>\n",
       "      <td>Bay St / College St (West Side) - SMART</td>\n",
       "      <td>1/1/2018 0:59</td>\n",
       "      <td>7021</td>\n",
       "      <td>Bay St / Albert St</td>\n",
       "      <td>Annual Member</td>\n",
       "    </tr>\n",
       "    <tr>\n",
       "      <th>3</th>\n",
       "      <td>2383651</td>\n",
       "      <td>1138</td>\n",
       "      <td>7202</td>\n",
       "      <td>1/1/2018 0:57</td>\n",
       "      <td>Queen St W / York St (City Hall)</td>\n",
       "      <td>1/1/2018 1:16</td>\n",
       "      <td>7020</td>\n",
       "      <td>Phoebe St / Spadina Ave</td>\n",
       "      <td>Annual Member</td>\n",
       "    </tr>\n",
       "    <tr>\n",
       "      <th>4</th>\n",
       "      <td>2383652</td>\n",
       "      <td>703</td>\n",
       "      <td>7004</td>\n",
       "      <td>1/1/2018 1:00</td>\n",
       "      <td>University Ave / Elm St</td>\n",
       "      <td>1/1/2018 1:12</td>\n",
       "      <td>7060</td>\n",
       "      <td>Princess St / Adelaide St E</td>\n",
       "      <td>Annual Member</td>\n",
       "    </tr>\n",
       "    <tr>\n",
       "      <th>...</th>\n",
       "      <td>...</td>\n",
       "      <td>...</td>\n",
       "      <td>...</td>\n",
       "      <td>...</td>\n",
       "      <td>...</td>\n",
       "      <td>...</td>\n",
       "      <td>...</td>\n",
       "      <td>...</td>\n",
       "      <td>...</td>\n",
       "    </tr>\n",
       "    <tr>\n",
       "      <th>178554</th>\n",
       "      <td>2605019</td>\n",
       "      <td>746</td>\n",
       "      <td>7017</td>\n",
       "      <td>3/31/2018 23:48</td>\n",
       "      <td>Widmer St / Adelaide St W</td>\n",
       "      <td>4/1/2018 0:00</td>\n",
       "      <td>7006</td>\n",
       "      <td>Bay St / College St (East Side)</td>\n",
       "      <td>Annual Member</td>\n",
       "    </tr>\n",
       "    <tr>\n",
       "      <th>178555</th>\n",
       "      <td>2605020</td>\n",
       "      <td>803</td>\n",
       "      <td>7009</td>\n",
       "      <td>3/31/2018 23:51</td>\n",
       "      <td>King St E / Jarvis St</td>\n",
       "      <td>4/1/2018 0:05</td>\n",
       "      <td>7114</td>\n",
       "      <td>Carlton St / Parliament St</td>\n",
       "      <td>Annual Member</td>\n",
       "    </tr>\n",
       "    <tr>\n",
       "      <th>178556</th>\n",
       "      <td>2605021</td>\n",
       "      <td>411</td>\n",
       "      <td>7062</td>\n",
       "      <td>3/31/2018 23:54</td>\n",
       "      <td>University Ave / College St (West)</td>\n",
       "      <td>4/1/2018 0:00</td>\n",
       "      <td>7051</td>\n",
       "      <td>Wellesley St E / Yonge St (Green P)</td>\n",
       "      <td>Annual Member</td>\n",
       "    </tr>\n",
       "    <tr>\n",
       "      <th>178557</th>\n",
       "      <td>2605022</td>\n",
       "      <td>164</td>\n",
       "      <td>7002</td>\n",
       "      <td>3/31/2018 23:54</td>\n",
       "      <td>St. George St / Bloor St W</td>\n",
       "      <td>3/31/2018 23:57</td>\n",
       "      <td>7250</td>\n",
       "      <td>St. George St / Russell St - SMART</td>\n",
       "      <td>Annual Member</td>\n",
       "    </tr>\n",
       "    <tr>\n",
       "      <th>178558</th>\n",
       "      <td>2605023</td>\n",
       "      <td>1134</td>\n",
       "      <td>7029</td>\n",
       "      <td>3/31/2018 23:55</td>\n",
       "      <td>St. James Park (King St. E.)</td>\n",
       "      <td>4/1/2018 0:14</td>\n",
       "      <td>7076</td>\n",
       "      <td>York St / Queens Quay W</td>\n",
       "      <td>Annual Member</td>\n",
       "    </tr>\n",
       "  </tbody>\n",
       "</table>\n",
       "<p>178559 rows × 9 columns</p>\n",
       "</div>"
      ],
      "text/plain": [
       "        trip_id  trip_duration_seconds  from_station_id  trip_start_time  \\\n",
       "0       2383648                    393             7018    1/1/2018 0:47   \n",
       "1       2383649                    625             7184    1/1/2018 0:52   \n",
       "2       2383650                    233             7235    1/1/2018 0:55   \n",
       "3       2383651                   1138             7202    1/1/2018 0:57   \n",
       "4       2383652                    703             7004    1/1/2018 1:00   \n",
       "...         ...                    ...              ...              ...   \n",
       "178554  2605019                    746             7017  3/31/2018 23:48   \n",
       "178555  2605020                    803             7009  3/31/2018 23:51   \n",
       "178556  2605021                    411             7062  3/31/2018 23:54   \n",
       "178557  2605022                    164             7002  3/31/2018 23:54   \n",
       "178558  2605023                   1134             7029  3/31/2018 23:55   \n",
       "\n",
       "                              from_station_name   trip_stop_time  \\\n",
       "0                        Bremner Blvd / Rees St    1/1/2018 0:54   \n",
       "1                    Ossington Ave / College St    1/1/2018 1:03   \n",
       "2       Bay St / College St (West Side) - SMART    1/1/2018 0:59   \n",
       "3              Queen St W / York St (City Hall)    1/1/2018 1:16   \n",
       "4                       University Ave / Elm St    1/1/2018 1:12   \n",
       "...                                         ...              ...   \n",
       "178554                Widmer St / Adelaide St W    4/1/2018 0:00   \n",
       "178555                    King St E / Jarvis St    4/1/2018 0:05   \n",
       "178556       University Ave / College St (West)    4/1/2018 0:00   \n",
       "178557               St. George St / Bloor St W  3/31/2018 23:57   \n",
       "178558             St. James Park (King St. E.)    4/1/2018 0:14   \n",
       "\n",
       "        to_station_id                      to_station_name      user_type  \n",
       "0                7176         Bathurst St / Fort York Blvd  Annual Member  \n",
       "1                7191           Central Tech  (Harbord St)  Annual Member  \n",
       "2                7021                   Bay St / Albert St  Annual Member  \n",
       "3                7020              Phoebe St / Spadina Ave  Annual Member  \n",
       "4                7060          Princess St / Adelaide St E  Annual Member  \n",
       "...               ...                                  ...            ...  \n",
       "178554           7006      Bay St / College St (East Side)  Annual Member  \n",
       "178555           7114           Carlton St / Parliament St  Annual Member  \n",
       "178556           7051  Wellesley St E / Yonge St (Green P)  Annual Member  \n",
       "178557           7250   St. George St / Russell St - SMART  Annual Member  \n",
       "178558           7076              York St / Queens Quay W  Annual Member  \n",
       "\n",
       "[178559 rows x 9 columns]"
      ]
     },
     "execution_count": 8,
     "metadata": {},
     "output_type": "execute_result"
    }
   ],
   "source": [
    "df\n"
   ]
  },
  {
   "cell_type": "code",
   "execution_count": 30,
   "metadata": {},
   "outputs": [
    {
     "data": {
      "text/html": [
       "<div>\n",
       "<style scoped>\n",
       "    .dataframe tbody tr th:only-of-type {\n",
       "        vertical-align: middle;\n",
       "    }\n",
       "\n",
       "    .dataframe tbody tr th {\n",
       "        vertical-align: top;\n",
       "    }\n",
       "\n",
       "    .dataframe thead th {\n",
       "        text-align: right;\n",
       "    }\n",
       "</style>\n",
       "<table border=\"1\" class=\"dataframe\">\n",
       "  <thead>\n",
       "    <tr style=\"text-align: right;\">\n",
       "      <th></th>\n",
       "      <th>trip_duration_seconds</th>\n",
       "      <th>from_station_id</th>\n",
       "      <th>trip_start_time</th>\n",
       "      <th>from_station_name</th>\n",
       "      <th>trip_stop_time</th>\n",
       "      <th>to_station_id</th>\n",
       "      <th>to_station_name</th>\n",
       "      <th>user_type</th>\n",
       "    </tr>\n",
       "    <tr>\n",
       "      <th>trip_id</th>\n",
       "      <th></th>\n",
       "      <th></th>\n",
       "      <th></th>\n",
       "      <th></th>\n",
       "      <th></th>\n",
       "      <th></th>\n",
       "      <th></th>\n",
       "      <th></th>\n",
       "    </tr>\n",
       "  </thead>\n",
       "  <tbody>\n",
       "    <tr>\n",
       "      <th>2383648</th>\n",
       "      <td>393</td>\n",
       "      <td>7018</td>\n",
       "      <td>1/1/2018 0:47</td>\n",
       "      <td>Bremner Blvd / Rees St</td>\n",
       "      <td>1/1/2018 0:54</td>\n",
       "      <td>7176</td>\n",
       "      <td>Bathurst St / Fort York Blvd</td>\n",
       "      <td>Annual Member</td>\n",
       "    </tr>\n",
       "    <tr>\n",
       "      <th>2383649</th>\n",
       "      <td>625</td>\n",
       "      <td>7184</td>\n",
       "      <td>1/1/2018 0:52</td>\n",
       "      <td>Ossington Ave / College St</td>\n",
       "      <td>1/1/2018 1:03</td>\n",
       "      <td>7191</td>\n",
       "      <td>Central Tech  (Harbord St)</td>\n",
       "      <td>Annual Member</td>\n",
       "    </tr>\n",
       "    <tr>\n",
       "      <th>2383650</th>\n",
       "      <td>233</td>\n",
       "      <td>7235</td>\n",
       "      <td>1/1/2018 0:55</td>\n",
       "      <td>Bay St / College St (West Side) - SMART</td>\n",
       "      <td>1/1/2018 0:59</td>\n",
       "      <td>7021</td>\n",
       "      <td>Bay St / Albert St</td>\n",
       "      <td>Annual Member</td>\n",
       "    </tr>\n",
       "    <tr>\n",
       "      <th>2383651</th>\n",
       "      <td>1138</td>\n",
       "      <td>7202</td>\n",
       "      <td>1/1/2018 0:57</td>\n",
       "      <td>Queen St W / York St (City Hall)</td>\n",
       "      <td>1/1/2018 1:16</td>\n",
       "      <td>7020</td>\n",
       "      <td>Phoebe St / Spadina Ave</td>\n",
       "      <td>Annual Member</td>\n",
       "    </tr>\n",
       "    <tr>\n",
       "      <th>2383652</th>\n",
       "      <td>703</td>\n",
       "      <td>7004</td>\n",
       "      <td>1/1/2018 1:00</td>\n",
       "      <td>University Ave / Elm St</td>\n",
       "      <td>1/1/2018 1:12</td>\n",
       "      <td>7060</td>\n",
       "      <td>Princess St / Adelaide St E</td>\n",
       "      <td>Annual Member</td>\n",
       "    </tr>\n",
       "  </tbody>\n",
       "</table>\n",
       "</div>"
      ],
      "text/plain": [
       "         trip_duration_seconds  from_station_id trip_start_time  \\\n",
       "trip_id                                                           \n",
       "2383648                    393             7018   1/1/2018 0:47   \n",
       "2383649                    625             7184   1/1/2018 0:52   \n",
       "2383650                    233             7235   1/1/2018 0:55   \n",
       "2383651                   1138             7202   1/1/2018 0:57   \n",
       "2383652                    703             7004   1/1/2018 1:00   \n",
       "\n",
       "                               from_station_name trip_stop_time  \\\n",
       "trip_id                                                           \n",
       "2383648                   Bremner Blvd / Rees St  1/1/2018 0:54   \n",
       "2383649               Ossington Ave / College St  1/1/2018 1:03   \n",
       "2383650  Bay St / College St (West Side) - SMART  1/1/2018 0:59   \n",
       "2383651         Queen St W / York St (City Hall)  1/1/2018 1:16   \n",
       "2383652                  University Ave / Elm St  1/1/2018 1:12   \n",
       "\n",
       "         to_station_id               to_station_name      user_type  \n",
       "trip_id                                                              \n",
       "2383648           7176  Bathurst St / Fort York Blvd  Annual Member  \n",
       "2383649           7191    Central Tech  (Harbord St)  Annual Member  \n",
       "2383650           7021            Bay St / Albert St  Annual Member  \n",
       "2383651           7020       Phoebe St / Spadina Ave  Annual Member  \n",
       "2383652           7060   Princess St / Adelaide St E  Annual Member  "
      ]
     },
     "execution_count": 30,
     "metadata": {},
     "output_type": "execute_result"
    }
   ],
   "source": [
    "# We do not want to view all of it but some only \n",
    "\n",
    "df.head()"
   ]
  },
  {
   "cell_type": "code",
   "execution_count": 31,
   "metadata": {},
   "outputs": [
    {
     "data": {
      "text/html": [
       "<div>\n",
       "<style scoped>\n",
       "    .dataframe tbody tr th:only-of-type {\n",
       "        vertical-align: middle;\n",
       "    }\n",
       "\n",
       "    .dataframe tbody tr th {\n",
       "        vertical-align: top;\n",
       "    }\n",
       "\n",
       "    .dataframe thead th {\n",
       "        text-align: right;\n",
       "    }\n",
       "</style>\n",
       "<table border=\"1\" class=\"dataframe\">\n",
       "  <thead>\n",
       "    <tr style=\"text-align: right;\">\n",
       "      <th></th>\n",
       "      <th>trip_duration_seconds</th>\n",
       "      <th>from_station_id</th>\n",
       "      <th>trip_start_time</th>\n",
       "      <th>from_station_name</th>\n",
       "      <th>trip_stop_time</th>\n",
       "      <th>to_station_id</th>\n",
       "      <th>to_station_name</th>\n",
       "      <th>user_type</th>\n",
       "    </tr>\n",
       "    <tr>\n",
       "      <th>trip_id</th>\n",
       "      <th></th>\n",
       "      <th></th>\n",
       "      <th></th>\n",
       "      <th></th>\n",
       "      <th></th>\n",
       "      <th></th>\n",
       "      <th></th>\n",
       "      <th></th>\n",
       "    </tr>\n",
       "  </thead>\n",
       "  <tbody>\n",
       "    <tr>\n",
       "      <th>2605021</th>\n",
       "      <td>411</td>\n",
       "      <td>7062</td>\n",
       "      <td>3/31/2018 23:54</td>\n",
       "      <td>University Ave / College St (West)</td>\n",
       "      <td>4/1/2018 0:00</td>\n",
       "      <td>7051</td>\n",
       "      <td>Wellesley St E / Yonge St (Green P)</td>\n",
       "      <td>Annual Member</td>\n",
       "    </tr>\n",
       "    <tr>\n",
       "      <th>2605022</th>\n",
       "      <td>164</td>\n",
       "      <td>7002</td>\n",
       "      <td>3/31/2018 23:54</td>\n",
       "      <td>St. George St / Bloor St W</td>\n",
       "      <td>3/31/2018 23:57</td>\n",
       "      <td>7250</td>\n",
       "      <td>St. George St / Russell St - SMART</td>\n",
       "      <td>Annual Member</td>\n",
       "    </tr>\n",
       "    <tr>\n",
       "      <th>2605023</th>\n",
       "      <td>1134</td>\n",
       "      <td>7029</td>\n",
       "      <td>3/31/2018 23:55</td>\n",
       "      <td>St. James Park (King St. E.)</td>\n",
       "      <td>4/1/2018 0:14</td>\n",
       "      <td>7076</td>\n",
       "      <td>York St / Queens Quay W</td>\n",
       "      <td>Annual Member</td>\n",
       "    </tr>\n",
       "  </tbody>\n",
       "</table>\n",
       "</div>"
      ],
      "text/plain": [
       "         trip_duration_seconds  from_station_id  trip_start_time  \\\n",
       "trip_id                                                            \n",
       "2605021                    411             7062  3/31/2018 23:54   \n",
       "2605022                    164             7002  3/31/2018 23:54   \n",
       "2605023                   1134             7029  3/31/2018 23:55   \n",
       "\n",
       "                          from_station_name   trip_stop_time  to_station_id  \\\n",
       "trip_id                                                                       \n",
       "2605021  University Ave / College St (West)    4/1/2018 0:00           7051   \n",
       "2605022          St. George St / Bloor St W  3/31/2018 23:57           7250   \n",
       "2605023        St. James Park (King St. E.)    4/1/2018 0:14           7076   \n",
       "\n",
       "                             to_station_name      user_type  \n",
       "trip_id                                                      \n",
       "2605021  Wellesley St E / Yonge St (Green P)  Annual Member  \n",
       "2605022   St. George St / Russell St - SMART  Annual Member  \n",
       "2605023              York St / Queens Quay W  Annual Member  "
      ]
     },
     "execution_count": 31,
     "metadata": {},
     "output_type": "execute_result"
    }
   ],
   "source": [
    "# how about the tail?  Let us show the last 3 values.\n",
    "df.tail(3)"
   ]
  },
  {
   "cell_type": "code",
   "execution_count": 32,
   "metadata": {},
   "outputs": [
    {
     "name": "stdout",
     "output_type": "stream",
     "text": [
      "<class 'pandas.core.frame.DataFrame'>\n",
      "Int64Index: 178559 entries, 2383648 to 2605023\n",
      "Data columns (total 8 columns):\n",
      " #   Column                 Non-Null Count   Dtype \n",
      "---  ------                 --------------   ----- \n",
      " 0   trip_duration_seconds  178559 non-null  int64 \n",
      " 1   from_station_id        178559 non-null  int64 \n",
      " 2   trip_start_time        178559 non-null  object\n",
      " 3   from_station_name      178559 non-null  object\n",
      " 4   trip_stop_time         178559 non-null  object\n",
      " 5   to_station_id          178559 non-null  int64 \n",
      " 6   to_station_name        178559 non-null  object\n",
      " 7   user_type              178559 non-null  object\n",
      "dtypes: int64(3), object(5)\n",
      "memory usage: 12.3+ MB\n"
     ]
    }
   ],
   "source": [
    "# We can get information about the df\n",
    "\n",
    "df.info()\n"
   ]
  },
  {
   "cell_type": "code",
   "execution_count": 33,
   "metadata": {},
   "outputs": [
    {
     "data": {
      "text/plain": [
       "(178559, 8)"
      ]
     },
     "execution_count": 33,
     "metadata": {},
     "output_type": "execute_result"
    }
   ],
   "source": [
    "# shape simply gives the dimension of the table.\n",
    "df.shape\n"
   ]
  },
  {
   "cell_type": "code",
   "execution_count": 16,
   "metadata": {},
   "outputs": [
    {
     "data": {
      "text/plain": [
       "(178559, 9)"
      ]
     },
     "execution_count": 16,
     "metadata": {},
     "output_type": "execute_result"
    }
   ],
   "source": [
    "#some times we need to remove duplicates\n",
    "df = df.drop_duplicates()\n",
    "df.shape"
   ]
  },
  {
   "cell_type": "code",
   "execution_count": 17,
   "metadata": {},
   "outputs": [],
   "source": [
    "#so we can see that there were no diplicate values\n",
    "#if there were diplicates, rather than doing df = df.drop.. we could simply do\n",
    "\n",
    "df.drop_duplicates(inplace=True)\n",
    "\n",
    "#inplace makes sure that we do not need to do the assignment"
   ]
  },
  {
   "cell_type": "code",
   "execution_count": 36,
   "metadata": {},
   "outputs": [
    {
     "data": {
      "text/plain": [
       "Index(['trip_duration_seconds', 'from_station_id', 'trip_start_time',\n",
       "       'from_station_name', 'trip_stop_time', 'to_station_id',\n",
       "       'to_station_name', 'user_type'],\n",
       "      dtype='object')"
      ]
     },
     "execution_count": 36,
     "metadata": {},
     "output_type": "execute_result"
    }
   ],
   "source": [
    "# how do we view columns of the data frame\n",
    "df.columns"
   ]
  },
  {
   "cell_type": "code",
   "execution_count": 43,
   "metadata": {},
   "outputs": [
    {
     "data": {
      "text/plain": [
       "trip_id\n",
       "2383648     393\n",
       "2383649     625\n",
       "2383650     233\n",
       "2383651    1138\n",
       "2383652     703\n",
       "           ... \n",
       "2605019     746\n",
       "2605020     803\n",
       "2605021     411\n",
       "2605022     164\n",
       "2605023    1134\n",
       "Name: trip_duration_seconds, Length: 178559, dtype: int64"
      ]
     },
     "execution_count": 43,
     "metadata": {},
     "output_type": "execute_result"
    }
   ],
   "source": [
    "# extracting a column \n",
    "\n",
    "trip_dur = df['trip_duration_seconds']\n",
    "trip_dur"
   ]
  },
  {
   "cell_type": "code",
   "execution_count": 61,
   "metadata": {},
   "outputs": [
    {
     "data": {
      "text/plain": [
       "<bound method NDFrame.head of          trip_duration_seconds\n",
       "trip_id                       \n",
       "2383648                    393\n",
       "2383649                    625\n",
       "2383650                    233\n",
       "2383651                   1138\n",
       "2383652                    703\n",
       "...                        ...\n",
       "2605019                    746\n",
       "2605020                    803\n",
       "2605021                    411\n",
       "2605022                    164\n",
       "2605023                   1134\n",
       "\n",
       "[178559 rows x 1 columns]>"
      ]
     },
     "execution_count": 61,
     "metadata": {},
     "output_type": "execute_result"
    }
   ],
   "source": [
    "# making a subset dataframe with multiple columns\n",
    "\n",
    "df1 = df[['trip_duration_seconds']]\n",
    "df1.head"
   ]
  },
  {
   "cell_type": "code",
   "execution_count": 60,
   "metadata": {},
   "outputs": [
    {
     "data": {
      "text/html": [
       "<div>\n",
       "<style scoped>\n",
       "    .dataframe tbody tr th:only-of-type {\n",
       "        vertical-align: middle;\n",
       "    }\n",
       "\n",
       "    .dataframe tbody tr th {\n",
       "        vertical-align: top;\n",
       "    }\n",
       "\n",
       "    .dataframe thead th {\n",
       "        text-align: right;\n",
       "    }\n",
       "</style>\n",
       "<table border=\"1\" class=\"dataframe\">\n",
       "  <thead>\n",
       "    <tr style=\"text-align: right;\">\n",
       "      <th></th>\n",
       "      <th>trip_duration_seconds</th>\n",
       "      <th>to_station_name</th>\n",
       "    </tr>\n",
       "    <tr>\n",
       "      <th>trip_id</th>\n",
       "      <th></th>\n",
       "      <th></th>\n",
       "    </tr>\n",
       "  </thead>\n",
       "  <tbody>\n",
       "    <tr>\n",
       "      <th>2383648</th>\n",
       "      <td>393</td>\n",
       "      <td>Bathurst St / Fort York Blvd</td>\n",
       "    </tr>\n",
       "    <tr>\n",
       "      <th>2383649</th>\n",
       "      <td>625</td>\n",
       "      <td>Central Tech  (Harbord St)</td>\n",
       "    </tr>\n",
       "    <tr>\n",
       "      <th>2383650</th>\n",
       "      <td>233</td>\n",
       "      <td>Bay St / Albert St</td>\n",
       "    </tr>\n",
       "    <tr>\n",
       "      <th>2383651</th>\n",
       "      <td>1138</td>\n",
       "      <td>Phoebe St / Spadina Ave</td>\n",
       "    </tr>\n",
       "    <tr>\n",
       "      <th>2383652</th>\n",
       "      <td>703</td>\n",
       "      <td>Princess St / Adelaide St E</td>\n",
       "    </tr>\n",
       "  </tbody>\n",
       "</table>\n",
       "</div>"
      ],
      "text/plain": [
       "         trip_duration_seconds               to_station_name\n",
       "trip_id                                                     \n",
       "2383648                    393  Bathurst St / Fort York Blvd\n",
       "2383649                    625    Central Tech  (Harbord St)\n",
       "2383650                    233            Bay St / Albert St\n",
       "2383651                   1138       Phoebe St / Spadina Ave\n",
       "2383652                    703   Princess St / Adelaide St E"
      ]
     },
     "execution_count": 60,
     "metadata": {},
     "output_type": "execute_result"
    }
   ],
   "source": [
    "# or using two or more columns\n",
    "\n",
    "df2 = df[['trip_duration_seconds','to_station_name']]\n",
    "df2.head()"
   ]
  },
  {
   "cell_type": "code",
   "execution_count": 48,
   "metadata": {},
   "outputs": [
    {
     "data": {
      "text/plain": [
       "trip_duration_seconds    0\n",
       "from_station_id          0\n",
       "trip_start_time          0\n",
       "from_station_name        0\n",
       "trip_stop_time           0\n",
       "to_station_id            0\n",
       "to_station_name          0\n",
       "user_type                0\n",
       "dtype: int64"
      ]
     },
     "execution_count": 48,
     "metadata": {},
     "output_type": "execute_result"
    }
   ],
   "source": [
    "# seeing how many null values\n",
    "df.isnull().sum()\n",
    "\n",
    "# we are good as we do not have any missing values"
   ]
  },
  {
   "cell_type": "code",
   "execution_count": 51,
   "metadata": {},
   "outputs": [
    {
     "data": {
      "text/html": [
       "<div>\n",
       "<style scoped>\n",
       "    .dataframe tbody tr th:only-of-type {\n",
       "        vertical-align: middle;\n",
       "    }\n",
       "\n",
       "    .dataframe tbody tr th {\n",
       "        vertical-align: top;\n",
       "    }\n",
       "\n",
       "    .dataframe thead th {\n",
       "        text-align: right;\n",
       "    }\n",
       "</style>\n",
       "<table border=\"1\" class=\"dataframe\">\n",
       "  <thead>\n",
       "    <tr style=\"text-align: right;\">\n",
       "      <th></th>\n",
       "      <th>trip_duration_seconds</th>\n",
       "      <th>from_station_id</th>\n",
       "      <th>to_station_id</th>\n",
       "    </tr>\n",
       "  </thead>\n",
       "  <tbody>\n",
       "    <tr>\n",
       "      <th>count</th>\n",
       "      <td>178559.000000</td>\n",
       "      <td>178559.000000</td>\n",
       "      <td>178559.000000</td>\n",
       "    </tr>\n",
       "    <tr>\n",
       "      <th>mean</th>\n",
       "      <td>696.457479</td>\n",
       "      <td>7111.200931</td>\n",
       "      <td>7109.080192</td>\n",
       "    </tr>\n",
       "    <tr>\n",
       "      <th>std</th>\n",
       "      <td>907.877396</td>\n",
       "      <td>88.876395</td>\n",
       "      <td>88.199290</td>\n",
       "    </tr>\n",
       "    <tr>\n",
       "      <th>min</th>\n",
       "      <td>60.000000</td>\n",
       "      <td>7000.000000</td>\n",
       "      <td>7000.000000</td>\n",
       "    </tr>\n",
       "    <tr>\n",
       "      <th>25%</th>\n",
       "      <td>365.000000</td>\n",
       "      <td>7034.000000</td>\n",
       "      <td>7034.000000</td>\n",
       "    </tr>\n",
       "    <tr>\n",
       "      <th>50%</th>\n",
       "      <td>555.000000</td>\n",
       "      <td>7077.000000</td>\n",
       "      <td>7076.000000</td>\n",
       "    </tr>\n",
       "    <tr>\n",
       "      <th>75%</th>\n",
       "      <td>837.000000</td>\n",
       "      <td>7180.000000</td>\n",
       "      <td>7177.000000</td>\n",
       "    </tr>\n",
       "    <tr>\n",
       "      <th>max</th>\n",
       "      <td>55077.000000</td>\n",
       "      <td>7289.000000</td>\n",
       "      <td>7289.000000</td>\n",
       "    </tr>\n",
       "  </tbody>\n",
       "</table>\n",
       "</div>"
      ],
      "text/plain": [
       "       trip_duration_seconds  from_station_id  to_station_id\n",
       "count          178559.000000    178559.000000  178559.000000\n",
       "mean              696.457479      7111.200931    7109.080192\n",
       "std               907.877396        88.876395      88.199290\n",
       "min                60.000000      7000.000000    7000.000000\n",
       "25%               365.000000      7034.000000    7034.000000\n",
       "50%               555.000000      7077.000000    7076.000000\n",
       "75%               837.000000      7180.000000    7177.000000\n",
       "max             55077.000000      7289.000000    7289.000000"
      ]
     },
     "execution_count": 51,
     "metadata": {},
     "output_type": "execute_result"
    }
   ],
   "source": [
    "# We can look at statistical aspects of numneric variables\n",
    "df.describe()\n"
   ]
  },
  {
   "cell_type": "code",
   "execution_count": 52,
   "metadata": {},
   "outputs": [
    {
     "data": {
      "text/plain": [
       "count                             178559\n",
       "unique                               270\n",
       "top       Sherbourne St / Wellesley St E\n",
       "freq                                2821\n",
       "Name: from_station_name, dtype: object"
      ]
     },
     "execution_count": 52,
     "metadata": {},
     "output_type": "execute_result"
    }
   ],
   "source": [
    "# We can also look at individual qualitative columns but column\n",
    "# by column\n",
    "\n",
    "df['from_station_name'].describe()"
   ]
  },
  {
   "cell_type": "code",
   "execution_count": 56,
   "metadata": {},
   "outputs": [
    {
     "data": {
      "text/html": [
       "<div>\n",
       "<style scoped>\n",
       "    .dataframe tbody tr th:only-of-type {\n",
       "        vertical-align: middle;\n",
       "    }\n",
       "\n",
       "    .dataframe tbody tr th {\n",
       "        vertical-align: top;\n",
       "    }\n",
       "\n",
       "    .dataframe thead th {\n",
       "        text-align: right;\n",
       "    }\n",
       "</style>\n",
       "<table border=\"1\" class=\"dataframe\">\n",
       "  <thead>\n",
       "    <tr style=\"text-align: right;\">\n",
       "      <th></th>\n",
       "      <th>trip_duration_seconds</th>\n",
       "      <th>from_station_id</th>\n",
       "      <th>to_station_id</th>\n",
       "    </tr>\n",
       "  </thead>\n",
       "  <tbody>\n",
       "    <tr>\n",
       "      <th>trip_duration_seconds</th>\n",
       "      <td>1.000000</td>\n",
       "      <td>0.030446</td>\n",
       "      <td>0.039564</td>\n",
       "    </tr>\n",
       "    <tr>\n",
       "      <th>from_station_id</th>\n",
       "      <td>0.030446</td>\n",
       "      <td>1.000000</td>\n",
       "      <td>0.080341</td>\n",
       "    </tr>\n",
       "    <tr>\n",
       "      <th>to_station_id</th>\n",
       "      <td>0.039564</td>\n",
       "      <td>0.080341</td>\n",
       "      <td>1.000000</td>\n",
       "    </tr>\n",
       "  </tbody>\n",
       "</table>\n",
       "</div>"
      ],
      "text/plain": [
       "                       trip_duration_seconds  from_station_id  to_station_id\n",
       "trip_duration_seconds               1.000000         0.030446       0.039564\n",
       "from_station_id                     0.030446         1.000000       0.080341\n",
       "to_station_id                       0.039564         0.080341       1.000000"
      ]
     },
     "execution_count": 56,
     "metadata": {},
     "output_type": "execute_result"
    }
   ],
   "source": [
    "# making correlation\n",
    "\n",
    "df.corr()\n",
    "\n",
    "# this is somewhat meaningless"
   ]
  },
  {
   "cell_type": "code",
   "execution_count": 62,
   "metadata": {},
   "outputs": [
    {
     "data": {
      "text/plain": [
       "trip_duration_seconds                           625\n",
       "from_station_id                                7184\n",
       "trip_start_time                       1/1/2018 0:52\n",
       "from_station_name        Ossington Ave / College St\n",
       "trip_stop_time                        1/1/2018 1:03\n",
       "to_station_id                                  7191\n",
       "to_station_name          Central Tech  (Harbord St)\n",
       "user_type                             Annual Member\n",
       "Name: 2383649, dtype: object"
      ]
     },
     "execution_count": 62,
     "metadata": {},
     "output_type": "execute_result"
    }
   ],
   "source": [
    "# Selecting single row of the table \n",
    "\n",
    "locc = df.iloc[1]\n",
    "locc"
   ]
  },
  {
   "cell_type": "code",
   "execution_count": 63,
   "metadata": {},
   "outputs": [
    {
     "data": {
      "text/plain": [
       "<bound method NDFrame.head of          trip_duration_seconds  from_station_id trip_start_time  \\\n",
       "trip_id                                                           \n",
       "2383649                    625             7184   1/1/2018 0:52   \n",
       "2383650                    233             7235   1/1/2018 0:55   \n",
       "2383651                   1138             7202   1/1/2018 0:57   \n",
       "2383652                    703             7004   1/1/2018 1:00   \n",
       "2383653                   1026             7078   1/1/2018 1:07   \n",
       "...                        ...              ...             ...   \n",
       "2385106                    483             7052  1/2/2018 17:58   \n",
       "2385111                    497             7156  1/2/2018 17:59   \n",
       "2385109                    449             7019  1/2/2018 17:59   \n",
       "2385112                    756             7273  1/2/2018 18:00   \n",
       "2385113                    902             7039  1/2/2018 18:01   \n",
       "\n",
       "                               from_station_name  trip_stop_time  \\\n",
       "trip_id                                                            \n",
       "2383649               Ossington Ave / College St   1/1/2018 1:03   \n",
       "2383650  Bay St / College St (West Side) - SMART   1/1/2018 0:59   \n",
       "2383651         Queen St W / York St (City Hall)   1/1/2018 1:16   \n",
       "2383652                  University Ave / Elm St   1/1/2018 1:12   \n",
       "2383653                    College St / Major St   1/1/2018 1:24   \n",
       "...                                          ...             ...   \n",
       "2385106                 Wellington St W / Bay St  1/2/2018 18:06   \n",
       "2385111                   Salem Ave / Bloor St W  1/2/2018 18:08   \n",
       "2385109                   Temperance St. Station  1/2/2018 18:06   \n",
       "2385112              Bay St / Charles St - SMART  1/2/2018 18:12   \n",
       "2385113            Simcoe St / Michael Sweet Ave  1/2/2018 18:16   \n",
       "\n",
       "         to_station_id                          to_station_name      user_type  \n",
       "trip_id                                                                         \n",
       "2383649           7191               Central Tech  (Harbord St)  Annual Member  \n",
       "2383650           7021                       Bay St / Albert St  Annual Member  \n",
       "2383651           7020                  Phoebe St / Spadina Ave  Annual Member  \n",
       "2383652           7060              Princess St / Adelaide St E  Annual Member  \n",
       "2383653           7130                     Pears Av / Avenue Rd  Annual Member  \n",
       "...                ...                                      ...            ...  \n",
       "2385106           7006          Bay St / College St (East Side)  Annual Member  \n",
       "2385111           7205          Rusholme Park Cres / College St  Annual Member  \n",
       "2385109           7235  Bay St / College St (West Side) - SMART  Annual Member  \n",
       "2385112           7078                    College St / Major St  Annual Member  \n",
       "2385113           7035               Queen St W / Ossington Ave  Annual Member  \n",
       "\n",
       "[999 rows x 8 columns]>"
      ]
     },
     "execution_count": 63,
     "metadata": {},
     "output_type": "execute_result"
    }
   ],
   "source": [
    "# Selecting various rows -- for sampling for example\n",
    "locc = df.iloc[1:1000]\n",
    "locc.head"
   ]
  },
  {
   "cell_type": "code",
   "execution_count": 64,
   "metadata": {},
   "outputs": [
    {
     "data": {
      "text/plain": [
       "<bound method NDFrame.head of trip_id\n",
       "2383648    False\n",
       "2383649     True\n",
       "2383650    False\n",
       "2383651    False\n",
       "2383652    False\n",
       "           ...  \n",
       "2605019    False\n",
       "2605020    False\n",
       "2605021    False\n",
       "2605022    False\n",
       "2605023    False\n",
       "Name: to_station_id, Length: 178559, dtype: bool>"
      ]
     },
     "execution_count": 64,
     "metadata": {},
     "output_type": "execute_result"
    }
   ],
   "source": [
    "# What if we wanted all trips to a particular station -- say 7191\n",
    "\n",
    "condition = (df['to_station_id'] == 7191)\n",
    "\n",
    "condition.head"
   ]
  },
  {
   "cell_type": "code",
   "execution_count": 66,
   "metadata": {},
   "outputs": [
    {
     "data": {
      "text/plain": [
       "(503, 8)"
      ]
     },
     "execution_count": 66,
     "metadata": {},
     "output_type": "execute_result"
    }
   ],
   "source": [
    "# to get the subset we pass on the condition \n",
    "\n",
    "sub1 = df[df['to_station_id'] == 7191]\n",
    "sub1.shape"
   ]
  },
  {
   "cell_type": "code",
   "execution_count": 67,
   "metadata": {},
   "outputs": [
    {
     "data": {
      "text/plain": [
       "(2299, 8)"
      ]
     },
     "execution_count": 67,
     "metadata": {},
     "output_type": "execute_result"
    }
   ],
   "source": [
    "# Exercise -- find a subset of df where from_station_id and to_station_id are the same\n",
    "\n",
    "sub2 = df[df['from_station_id'] == df['to_station_id']]\n",
    "sub2.shape"
   ]
  },
  {
   "cell_type": "code",
   "execution_count": 69,
   "metadata": {},
   "outputs": [
    {
     "data": {
      "text/html": [
       "<div>\n",
       "<style scoped>\n",
       "    .dataframe tbody tr th:only-of-type {\n",
       "        vertical-align: middle;\n",
       "    }\n",
       "\n",
       "    .dataframe tbody tr th {\n",
       "        vertical-align: top;\n",
       "    }\n",
       "\n",
       "    .dataframe thead th {\n",
       "        text-align: right;\n",
       "    }\n",
       "</style>\n",
       "<table border=\"1\" class=\"dataframe\">\n",
       "  <thead>\n",
       "    <tr style=\"text-align: right;\">\n",
       "      <th></th>\n",
       "      <th>trip_duration_seconds</th>\n",
       "      <th>from_station_id</th>\n",
       "      <th>to_station_id</th>\n",
       "    </tr>\n",
       "  </thead>\n",
       "  <tbody>\n",
       "    <tr>\n",
       "      <th>count</th>\n",
       "      <td>2299.000000</td>\n",
       "      <td>2299.000000</td>\n",
       "      <td>2299.000000</td>\n",
       "    </tr>\n",
       "    <tr>\n",
       "      <th>mean</th>\n",
       "      <td>2367.252719</td>\n",
       "      <td>7124.638104</td>\n",
       "      <td>7124.638104</td>\n",
       "    </tr>\n",
       "    <tr>\n",
       "      <th>std</th>\n",
       "      <td>3657.657377</td>\n",
       "      <td>89.957651</td>\n",
       "      <td>89.957651</td>\n",
       "    </tr>\n",
       "    <tr>\n",
       "      <th>min</th>\n",
       "      <td>60.000000</td>\n",
       "      <td>7000.000000</td>\n",
       "      <td>7000.000000</td>\n",
       "    </tr>\n",
       "    <tr>\n",
       "      <th>25%</th>\n",
       "      <td>326.500000</td>\n",
       "      <td>7038.500000</td>\n",
       "      <td>7038.500000</td>\n",
       "    </tr>\n",
       "    <tr>\n",
       "      <th>50%</th>\n",
       "      <td>961.000000</td>\n",
       "      <td>7112.000000</td>\n",
       "      <td>7112.000000</td>\n",
       "    </tr>\n",
       "    <tr>\n",
       "      <th>75%</th>\n",
       "      <td>2701.500000</td>\n",
       "      <td>7202.000000</td>\n",
       "      <td>7202.000000</td>\n",
       "    </tr>\n",
       "    <tr>\n",
       "      <th>max</th>\n",
       "      <td>39975.000000</td>\n",
       "      <td>7289.000000</td>\n",
       "      <td>7289.000000</td>\n",
       "    </tr>\n",
       "  </tbody>\n",
       "</table>\n",
       "</div>"
      ],
      "text/plain": [
       "       trip_duration_seconds  from_station_id  to_station_id\n",
       "count            2299.000000      2299.000000    2299.000000\n",
       "mean             2367.252719      7124.638104    7124.638104\n",
       "std              3657.657377        89.957651      89.957651\n",
       "min                60.000000      7000.000000    7000.000000\n",
       "25%               326.500000      7038.500000    7038.500000\n",
       "50%               961.000000      7112.000000    7112.000000\n",
       "75%              2701.500000      7202.000000    7202.000000\n",
       "max             39975.000000      7289.000000    7289.000000"
      ]
     },
     "execution_count": 69,
     "metadata": {},
     "output_type": "execute_result"
    }
   ],
   "source": [
    "# Let us see the trip_duration for this?\n",
    "\n",
    "# sub2['trip_duration'].describe()  -- explain why will not work\n",
    "\n",
    "sub2.describe()"
   ]
  },
  {
   "cell_type": "code",
   "execution_count": 71,
   "metadata": {},
   "outputs": [
    {
     "name": "stdout",
     "output_type": "stream",
     "text": [
      "696.4574790405412\n"
     ]
    }
   ],
   "source": [
    "# Applying functions to columns\n",
    "# calculating the mean\n",
    "print(df['trip_duration_seconds'].mean())  # 696.457\n",
    "\n",
    "\n"
   ]
  },
  {
   "cell_type": "code",
   "execution_count": 76,
   "metadata": {},
   "outputs": [],
   "source": [
    "# note that x will be Series and x is each element of the series\n",
    "def rating_function(x):\n",
    "    if  x >= 696.457:\n",
    "        return \"slower\"\n",
    "    else:\n",
    "        return \"faster\"\n"
   ]
  },
  {
   "cell_type": "code",
   "execution_count": 77,
   "metadata": {},
   "outputs": [
    {
     "data": {
      "text/html": [
       "<div>\n",
       "<style scoped>\n",
       "    .dataframe tbody tr th:only-of-type {\n",
       "        vertical-align: middle;\n",
       "    }\n",
       "\n",
       "    .dataframe tbody tr th {\n",
       "        vertical-align: top;\n",
       "    }\n",
       "\n",
       "    .dataframe thead th {\n",
       "        text-align: right;\n",
       "    }\n",
       "</style>\n",
       "<table border=\"1\" class=\"dataframe\">\n",
       "  <thead>\n",
       "    <tr style=\"text-align: right;\">\n",
       "      <th></th>\n",
       "      <th>trip_duration_seconds</th>\n",
       "      <th>from_station_id</th>\n",
       "      <th>trip_start_time</th>\n",
       "      <th>from_station_name</th>\n",
       "      <th>trip_stop_time</th>\n",
       "      <th>to_station_id</th>\n",
       "      <th>to_station_name</th>\n",
       "      <th>user_type</th>\n",
       "      <th>duration_category</th>\n",
       "    </tr>\n",
       "    <tr>\n",
       "      <th>trip_id</th>\n",
       "      <th></th>\n",
       "      <th></th>\n",
       "      <th></th>\n",
       "      <th></th>\n",
       "      <th></th>\n",
       "      <th></th>\n",
       "      <th></th>\n",
       "      <th></th>\n",
       "      <th></th>\n",
       "    </tr>\n",
       "  </thead>\n",
       "  <tbody>\n",
       "    <tr>\n",
       "      <th>2383648</th>\n",
       "      <td>393</td>\n",
       "      <td>7018</td>\n",
       "      <td>1/1/2018 0:47</td>\n",
       "      <td>Bremner Blvd / Rees St</td>\n",
       "      <td>1/1/2018 0:54</td>\n",
       "      <td>7176</td>\n",
       "      <td>Bathurst St / Fort York Blvd</td>\n",
       "      <td>Annual Member</td>\n",
       "      <td>faster</td>\n",
       "    </tr>\n",
       "    <tr>\n",
       "      <th>2383649</th>\n",
       "      <td>625</td>\n",
       "      <td>7184</td>\n",
       "      <td>1/1/2018 0:52</td>\n",
       "      <td>Ossington Ave / College St</td>\n",
       "      <td>1/1/2018 1:03</td>\n",
       "      <td>7191</td>\n",
       "      <td>Central Tech  (Harbord St)</td>\n",
       "      <td>Annual Member</td>\n",
       "      <td>faster</td>\n",
       "    </tr>\n",
       "  </tbody>\n",
       "</table>\n",
       "</div>"
      ],
      "text/plain": [
       "         trip_duration_seconds  from_station_id trip_start_time  \\\n",
       "trip_id                                                           \n",
       "2383648                    393             7018   1/1/2018 0:47   \n",
       "2383649                    625             7184   1/1/2018 0:52   \n",
       "\n",
       "                  from_station_name trip_stop_time  to_station_id  \\\n",
       "trip_id                                                             \n",
       "2383648      Bremner Blvd / Rees St  1/1/2018 0:54           7176   \n",
       "2383649  Ossington Ave / College St  1/1/2018 1:03           7191   \n",
       "\n",
       "                      to_station_name      user_type duration_category  \n",
       "trip_id                                                                 \n",
       "2383648  Bathurst St / Fort York Blvd  Annual Member            faster  \n",
       "2383649    Central Tech  (Harbord St)  Annual Member            faster  "
      ]
     },
     "execution_count": 77,
     "metadata": {},
     "output_type": "execute_result"
    }
   ],
   "source": [
    "df[\"duration_category\"] = df['trip_duration_seconds'].apply(rating_function)\n",
    "\n",
    "df.head(2)"
   ]
  },
  {
   "cell_type": "code",
   "execution_count": 78,
   "metadata": {},
   "outputs": [
    {
     "name": "stdout",
     "output_type": "stream",
     "text": [
      "Requirement already satisfied: matplotlib in /Users/izualkernan/opt/anaconda3/envs/tensor_test/lib/python3.6/site-packages (3.1.1)\r\n",
      "Requirement already satisfied: kiwisolver>=1.0.1 in /Users/izualkernan/opt/anaconda3/envs/tensor_test/lib/python3.6/site-packages (from matplotlib) (1.1.0)\r\n",
      "Requirement already satisfied: numpy>=1.11 in /Users/izualkernan/opt/anaconda3/envs/tensor_test/lib/python3.6/site-packages (from matplotlib) (1.16.1)\r\n",
      "Requirement already satisfied: python-dateutil>=2.1 in /Users/izualkernan/opt/anaconda3/envs/tensor_test/lib/python3.6/site-packages (from matplotlib) (2.8.1)\r\n",
      "Requirement already satisfied: pyparsing!=2.0.4,!=2.1.2,!=2.1.6,>=2.0.1 in /Users/izualkernan/opt/anaconda3/envs/tensor_test/lib/python3.6/site-packages (from matplotlib) (2.4.5)\r\n",
      "Requirement already satisfied: cycler>=0.10 in /Users/izualkernan/opt/anaconda3/envs/tensor_test/lib/python3.6/site-packages (from matplotlib) (0.10.0)\r\n",
      "Requirement already satisfied: setuptools in /Users/izualkernan/opt/anaconda3/envs/tensor_test/lib/python3.6/site-packages (from kiwisolver>=1.0.1->matplotlib) (41.6.0.post20191030)\r\n",
      "Requirement already satisfied: six>=1.5 in /Users/izualkernan/opt/anaconda3/envs/tensor_test/lib/python3.6/site-packages (from python-dateutil>=2.1->matplotlib) (1.13.0)\r\n"
     ]
    }
   ],
   "source": [
    "# We can also draw graphs etc. using the matplot lib library\n",
    "\n",
    "import sys\n",
    "!{sys.executable} -m pip install matplotlib\n"
   ]
  },
  {
   "cell_type": "code",
   "execution_count": 80,
   "metadata": {},
   "outputs": [
    {
     "data": {
      "text/plain": [
       "<matplotlib.axes._subplots.AxesSubplot at 0x103979630>"
      ]
     },
     "execution_count": 80,
     "metadata": {},
     "output_type": "execute_result"
    },
    {
     "data": {
      "image/png": "[encoded data removed]",
      "text/plain": [
       "<Figure size 432x288 with 1 Axes>"
      ]
     },
     "metadata": {
      "needs_background": "light"
     },
     "output_type": "display_data"
    }
   ],
   "source": [
    "df['trip_duration_seconds'].plot(kind='hist', title='time duration')"
   ]
  },
  {
   "cell_type": "code",
   "execution_count": 85,
   "metadata": {},
   "outputs": [
    {
     "name": "stdout",
     "output_type": "stream",
     "text": [
      "696.4574790405412\n",
      "907.8773957061544\n",
      "60\n",
      "55077\n"
     ]
    }
   ],
   "source": [
    "print(df['trip_duration_seconds'].mean())\n",
    "print(df['trip_duration_seconds'].std())\n",
    "print(df['trip_duration_seconds'].min())\n",
    "print(df['trip_duration_seconds'].max())\n"
   ]
  },
  {
   "cell_type": "code",
   "execution_count": 86,
   "metadata": {},
   "outputs": [
    {
     "data": {
      "text/plain": [
       "(177660, 9)"
      ]
     },
     "execution_count": 86,
     "metadata": {},
     "output_type": "execute_result"
    }
   ],
   "source": [
    "# Exercise remove all values of trip duration more than 5000 and plot and show how many values\n",
    "\n",
    "df1 = df[df['trip_duration_seconds']<5000]\n",
    "df1.shape"
   ]
  },
  {
   "cell_type": "code",
   "execution_count": 88,
   "metadata": {},
   "outputs": [
    {
     "data": {
      "text/plain": [
       "<matplotlib.axes._subplots.AxesSubplot at 0x11b043400>"
      ]
     },
     "execution_count": 88,
     "metadata": {},
     "output_type": "execute_result"
    },
    {
     "data": {
      "image/png": "[encoded data removed]",
      "text/plain": [
       "<Figure size 432x288 with 1 Axes>"
      ]
     },
     "metadata": {
      "needs_background": "light"
     },
     "output_type": "display_data"
    }
   ],
   "source": [
    "df1['trip_duration_seconds'].plot(kind='hist', title='time duration')"
   ]
  },
  {
   "cell_type": "code",
   "execution_count": 89,
   "metadata": {},
   "outputs": [
    {
     "data": {
      "text/plain": [
       "(175732, 9)"
      ]
     },
     "execution_count": 89,
     "metadata": {},
     "output_type": "execute_result"
    }
   ],
   "source": [
    "df2 = df[df['trip_duration_seconds']<2000]\n",
    "df2.shape"
   ]
  },
  {
   "cell_type": "code",
   "execution_count": 91,
   "metadata": {},
   "outputs": [
    {
     "data": {
      "text/plain": [
       "<matplotlib.axes._subplots.AxesSubplot at 0x11cbed898>"
      ]
     },
     "execution_count": 91,
     "metadata": {},
     "output_type": "execute_result"
    },
    {
     "data": {
      "image/png": "[encoded data removed]",
      "text/plain": [
       "<Figure size 432x288 with 1 Axes>"
      ]
     },
     "metadata": {
      "needs_background": "light"
     },
     "output_type": "display_data"
    }
   ],
   "source": [
    "df2['trip_duration_seconds'].plot(kind='hist', title='time duration')"
   ]
  },
  {
   "cell_type": "code",
   "execution_count": 92,
   "metadata": {},
   "outputs": [
    {
     "data": {
      "text/plain": [
       "<matplotlib.axes._subplots.AxesSubplot at 0x11c7c2128>"
      ]
     },
     "execution_count": 92,
     "metadata": {},
     "output_type": "execute_result"
    },
    {
     "data": {
      "image/png": "[encoded data removed]",
      "text/plain": [
       "<Figure size 432x288 with 1 Axes>"
      ]
     },
     "metadata": {
      "needs_background": "light"
     },
     "output_type": "display_data"
    }
   ],
   "source": [
    "df['trip_duration_seconds'].plot(kind=\"box\")"
   ]
  },
  {
   "cell_type": "code",
   "execution_count": 93,
   "metadata": {},
   "outputs": [
    {
     "data": {
      "text/plain": [
       "<matplotlib.axes._subplots.AxesSubplot at 0x11c1cbe80>"
      ]
     },
     "execution_count": 93,
     "metadata": {},
     "output_type": "execute_result"
    },
    {
     "data": {
      "image/png": "[encoded data removed]",
      "text/plain": [
       "<Figure size 432x288 with 1 Axes>"
      ]
     },
     "metadata": {
      "needs_background": "light"
     },
     "output_type": "display_data"
    }
   ],
   "source": [
    "# how about according to categories \n",
    "\n",
    "df.boxplot(column='trip_duration_seconds', by='duration_category')\n"
   ]
  },
  {
   "cell_type": "code",
   "execution_count": null,
   "metadata": {},
   "outputs": [],
   "source": []
  }
 ],
 "metadata": {
  "kernelspec": {
   "display_name": "Python 3",
   "language": "python",
   "name": "python3"
  },
  "language_info": {
   "codemirror_mode": {
    "name": "ipython",
    "version": 3
   },
   "file_extension": ".py",
   "mimetype": "text/x-python",
   "name": "python",
   "nbconvert_exporter": "python",
   "pygments_lexer": "ipython3",
   "version": "3.6.9"
  }
 },
 "nbformat": 4,
 "nbformat_minor": 2
}
