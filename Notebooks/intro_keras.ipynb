{
 "cells": [
  {
   "cell_type": "markdown",
   "metadata": {},
   "source": [
    "## Introduction to keras\n",
    "\n",
    "COE49412\n",
    "\n",
    "Spring 2020\n",
    "\n",
    "Imran A. Zualkernan\n",
    "\n",
    "The purpose of this lecture is to use the MNIST dataset to:\n",
    "\n",
    "1) Introduce keras\n",
    "2) Show how to prepare inputs and outputs\n",
    "3) Show how to compile and train a model\n",
    "4) Show how to do K-fold evaluation of a keras model\n"
   ]
  },
  {
   "cell_type": "code",
   "execution_count": 63,
   "metadata": {},
   "outputs": [],
   "source": [
    "import numpy as np\n",
    "import keras\n",
    "from tensorflow.keras.datasets import mnist\n",
    "\n",
    "(X_train, Y_train), (X_test, Y_test) = mnist.load_data()\n"
   ]
  },
  {
   "cell_type": "code",
   "execution_count": 64,
   "metadata": {},
   "outputs": [
    {
     "name": "stdout",
     "output_type": "stream",
     "text": [
      "MNIST Dataset Shape:\n",
      "X_train: (60000, 28, 28)\n",
      "Y_train: (60000,)\n",
      "X_test:  (10000, 28, 28)\n",
      "Y_test:  (10000,)\n"
     ]
    }
   ],
   "source": [
    "## Let us explore the form of the data we just loaded\n",
    "\n",
    "print('MNIST Dataset Shape:')\n",
    "print('X_train: ' + str(X_train.shape))\n",
    "print('Y_train: ' + str(Y_train.shape))\n",
    "print('X_test:  '  + str(X_test.shape))\n",
    "print('Y_test:  '  + str(Y_test.shape))\n",
    "\n",
    "# We note that these are 60000 28x28 images."
   ]
  },
  {
   "cell_type": "code",
   "execution_count": 75,
   "metadata": {},
   "outputs": [
    {
     "name": "stdout",
     "output_type": "stream",
     "text": [
      "7\n",
      "(28, 28)\n"
     ]
    },
    {
     "data": {
      "image/png": "[encoded data removed]",
      "text/plain": [
       "<Figure size 432x288 with 1 Axes>"
      ]
     },
     "metadata": {
      "needs_background": "light"
     },
     "output_type": "display_data"
    }
   ],
   "source": [
    "# Show an image \n",
    "import matplotlib.pyplot as plt\n",
    "from matplotlib.image import imread\n",
    "from PIL import Image\n",
    "\n",
    "def img_show(img):\n",
    "    img = Image.fromarray(np.uint8(img))\n",
    "    plt.imshow(img, cmap = 'gray')\n",
    "\n",
    "img = X_train[42]\n",
    "label = Y_train[42]\n",
    "print(label) # 7\n",
    "\n",
    "print(img.shape)\n",
    "\n",
    "img_show(img)"
   ]
  },
  {
   "cell_type": "code",
   "execution_count": 76,
   "metadata": {},
   "outputs": [
    {
     "name": "stdout",
     "output_type": "stream",
     "text": [
      "7\n",
      "4\n"
     ]
    }
   ],
   "source": [
    "# Y_train simply has labels for digits\n",
    "print(Y_train[42])\n",
    "print(Y_test[42])"
   ]
  },
  {
   "cell_type": "code",
   "execution_count": 77,
   "metadata": {},
   "outputs": [
    {
     "name": "stdout",
     "output_type": "stream",
     "text": [
      "(60000, 784)\n",
      "(10000, 784)\n",
      "(60000, 10)\n",
      "(10000, 10)\n",
      "[0. 0. 0. 0. 0. 0. 0. 1. 0. 0.]\n",
      "[0. 0. 0. 0. 1. 0. 0. 0. 0. 0.]\n"
     ]
    },
    {
     "name": "stderr",
     "output_type": "stream",
     "text": [
      "/Users/izualkernan/opt/anaconda3/lib/python3.7/site-packages/sklearn/preprocessing/_encoders.py:415: FutureWarning: The handling of integer data will change in version 0.22. Currently, the categories are determined based on the range [0, max(values)], while in the future they will be determined based on the unique values.\n",
      "If you want the future behaviour and silence this warning, you can specify \"categories='auto'\".\n",
      "In case you used a LabelEncoder before this OneHotEncoder to convert the categories to integers, then you can now use the OneHotEncoder directly.\n",
      "  warnings.warn(msg, FutureWarning)\n",
      "/Users/izualkernan/opt/anaconda3/lib/python3.7/site-packages/sklearn/preprocessing/_encoders.py:415: FutureWarning: The handling of integer data will change in version 0.22. Currently, the categories are determined based on the range [0, max(values)], while in the future they will be determined based on the unique values.\n",
      "If you want the future behaviour and silence this warning, you can specify \"categories='auto'\".\n",
      "In case you used a LabelEncoder before this OneHotEncoder to convert the categories to integers, then you can now use the OneHotEncoder directly.\n",
      "  warnings.warn(msg, FutureWarning)\n"
     ]
    }
   ],
   "source": [
    "# Normalize the images.\n",
    "X_train = (X_train / 255) - 0.5\n",
    "X_test = (X_test / 255) - 0.5\n",
    "\n",
    "# Flatten the images.\n",
    "X_train = X_train.reshape((-1, 784))\n",
    "X_test = X_test.reshape((-1, 784))\n",
    "\n",
    "print(X_train.shape) \n",
    "print(X_test.shape) \n",
    "\n",
    "# One hot encode the y data \n",
    "# This means that a label of 2 will become\n",
    "# [0, 0, 1, 0, 0, 0, 0, 0, 0, 0]\n",
    "\n",
    "from sklearn.preprocessing import OneHotEncoder\n",
    "ohe = OneHotEncoder()\n",
    "Y_train = Y_train.reshape(-1,1)\n",
    "Y_test  = Y_test.reshape(-1,1)\n",
    "Y_train = ohe.fit_transform(Y_train).toarray()\n",
    "Y_test  =  ohe.fit_transform(Y_test).toarray()\n",
    "\n",
    "print(Y_train.shape)\n",
    "print(Y_test.shape)\n",
    "\n",
    "print(Y_train[42])\n",
    "print(Y_test[42])"
   ]
  },
  {
   "cell_type": "code",
   "execution_count": 50,
   "metadata": {},
   "outputs": [
    {
     "name": "stdout",
     "output_type": "stream",
     "text": [
      "Model: \"sequential_3\"\n",
      "_________________________________________________________________\n",
      "Layer (type)                 Output Shape              Param #   \n",
      "=================================================================\n",
      "dense_7 (Dense)              (None, 8)                 6280      \n",
      "_________________________________________________________________\n",
      "dense_8 (Dense)              (None, 8)                 72        \n",
      "_________________________________________________________________\n",
      "dense_9 (Dense)              (None, 10)                90        \n",
      "=================================================================\n",
      "Total params: 6,442\n",
      "Trainable params: 6,442\n",
      "Non-trainable params: 0\n",
      "_________________________________________________________________\n"
     ]
    }
   ],
   "source": [
    "# Now we will specify the layers of our \n",
    "# keras model.\n",
    "\n",
    "from keras.models import Sequential\n",
    "from keras.layers import Dense\n",
    "\n",
    "model = Sequential()\n",
    "model.add(Dense(8, input_dim = 784,activation='relu'))\n",
    "model.add(Dense(8, activation='relu'))\n",
    "model.add(Dense(10, activation='softmax'))\n",
    "\n",
    "model.summary()"
   ]
  },
  {
   "cell_type": "code",
   "execution_count": 49,
   "metadata": {},
   "outputs": [
    {
     "name": "stdout",
     "output_type": "stream",
     "text": [
      "Model: \"sequential_2\"\n",
      "_________________________________________________________________\n",
      "Layer (type)                 Output Shape              Param #   \n",
      "=================================================================\n",
      "dense_4 (Dense)              (None, 8)                 6280      \n",
      "_________________________________________________________________\n",
      "dense_5 (Dense)              (None, 8)                 72        \n",
      "_________________________________________________________________\n",
      "dense_6 (Dense)              (None, 10)                90        \n",
      "=================================================================\n",
      "Total params: 6,442\n",
      "Trainable params: 6,442\n",
      "Non-trainable params: 0\n",
      "_________________________________________________________________\n"
     ]
    }
   ],
   "source": [
    "# Compile the model specifying the loss function\n",
    "model.compile(\n",
    "  optimizer='adam',\n",
    "  loss='categorical_crossentropy',\n",
    "  metrics=['accuracy'],\n",
    ")"
   ]
  },
  {
   "cell_type": "code",
   "execution_count": 28,
   "metadata": {},
   "outputs": [
    {
     "name": "stdout",
     "output_type": "stream",
     "text": [
      "Epoch 1/5\n",
      "60000/60000 [==============================] - 3s 45us/step - loss: 1.2212 - accuracy: 0.5818\n",
      "Epoch 2/5\n",
      "60000/60000 [==============================] - 2s 38us/step - loss: 0.6381 - accuracy: 0.8020\n",
      "Epoch 3/5\n",
      "60000/60000 [==============================] - 2s 40us/step - loss: 0.5460 - accuracy: 0.8343\n",
      "Epoch 4/5\n",
      "60000/60000 [==============================] - 3s 45us/step - loss: 0.4867 - accuracy: 0.8544\n",
      "Epoch 5/5\n",
      "60000/60000 [==============================] - 3s 43us/step - loss: 0.4535 - accuracy: 0.8655\n",
      "Test loss: 0.442646514248848\n",
      "Test accuracy: 0.8658999800682068\n"
     ]
    }
   ],
   "source": [
    "# Train the model using train and test and a batch \n",
    "# size of 64 for 5 epochs\n",
    "\n",
    "model.fit(X_train, Y_train,\n",
    "          batch_size=64,\n",
    "          epochs=5,\n",
    "          verbose =1)\n",
    "\n",
    "score = model.evaluate(X_test, Y_test, verbose=0)\n",
    "print('Test loss:', score[0])\n",
    "print('Test accuracy:', score[1])"
   ]
  },
  {
   "cell_type": "code",
   "execution_count": 58,
   "metadata": {},
   "outputs": [],
   "source": [
    "# This function will create the actual and predicted\n",
    "# vectors for further evaluation.\n",
    "\n",
    "def generate_actual_predicted(model, X_test, Y_test):\n",
    "    # Get the predictions\n",
    "    Y_pred = model.predict(X_test)\n",
    "\n",
    "    # Create a list of predictions\n",
    "\n",
    "    #Converting predictions to label\n",
    "    predicted = list()\n",
    "    for i in range(len(Y_pred)):\n",
    "        predicted.append(np.argmax(Y_pred[i]))\n",
    "\n",
    "    #Converting one hot encoded test label back to label\n",
    "    actual = list()\n",
    "    for i in range(len(Y_test)):\n",
    "        actual.append(np.argmax(Y_test[i]))\n",
    "\n",
    "    return actual, predicted\n",
    "\n",
    "actual, predicted = generate_actual_predicted(model, X_test, Y_test)"
   ]
  },
  {
   "cell_type": "code",
   "execution_count": 37,
   "metadata": {},
   "outputs": [
    {
     "name": "stdout",
     "output_type": "stream",
     "text": [
      "[[ 956    0    7    1    1    2    9    1    2    1]\n",
      " [   0 1071    7   14    0    5    2    0   36    0]\n",
      " [  15    1  926   27    7    2   22    7   22    3]\n",
      " [   8    8   62  795    0   75    1   27   29    5]\n",
      " [   1    1   12    0  871    3   12    0   11   71]\n",
      " [  21    1   11   77   14  688   30   21   24    5]\n",
      " [  22    1   22    0    7   11  893    0    2    0]\n",
      " [   8    3   19   25    5    3    0  876   21   68]\n",
      " [   7    9   42   47   25   28   16   25  765   10]\n",
      " [  13    3    1    5   99    9    0   48   13  818]]\n",
      "0.8659\n"
     ]
    }
   ],
   "source": [
    "# Now we can determine the confusion matrix\n",
    "from sklearn.metrics import confusion_matrix\n",
    "cm=confusion_matrix(actual,predicted)\n",
    "print(cm)\n",
    "\n",
    "from sklearn.metrics import accuracy_score\n",
    "print(accuracy_score(actual, predicted))"
   ]
  },
  {
   "cell_type": "code",
   "execution_count": 38,
   "metadata": {},
   "outputs": [
    {
     "name": "stdout",
     "output_type": "stream",
     "text": [
      "0.8636217381669461\n",
      "0.8640719654638872\n",
      "0.8642218901201641\n"
     ]
    }
   ],
   "source": [
    "# We will plot the \"averages across classes\" for each \n",
    "# of the metrics. Macro gives us the average of particular\n",
    "# values across classes. This is a very crude measure.\n",
    "\n",
    "from sklearn.metrics import f1_score\n",
    "print(f1_score(actual, predicted, average='macro'))\n",
    "\n",
    "from sklearn.metrics import precision_score\n",
    "print(precision_score(actual, predicted, average='macro'))\n",
    "\n",
    "from sklearn.metrics import recall_score\n",
    "print(recall_score(actual, predicted, average='macro'))"
   ]
  },
  {
   "cell_type": "code",
   "execution_count": 39,
   "metadata": {},
   "outputs": [
    {
     "name": "stdout",
     "output_type": "stream",
     "text": [
      "              precision    recall  f1-score   support\n",
      "\n",
      "           0       0.91      0.98      0.94       980\n",
      "           1       0.98      0.94      0.96      1135\n",
      "           2       0.83      0.90      0.87      1032\n",
      "           3       0.80      0.79      0.79      1010\n",
      "           4       0.85      0.89      0.87       982\n",
      "           5       0.83      0.77      0.80       892\n",
      "           6       0.91      0.93      0.92       958\n",
      "           7       0.87      0.85      0.86      1028\n",
      "           8       0.83      0.79      0.81       974\n",
      "           9       0.83      0.81      0.82      1009\n",
      "\n",
      "    accuracy                           0.87     10000\n",
      "   macro avg       0.86      0.86      0.86     10000\n",
      "weighted avg       0.87      0.87      0.87     10000\n",
      "\n"
     ]
    }
   ],
   "source": [
    "# To determine the precision, recall and F1-score\n",
    "# for each class.\n",
    "# We can derive each 2x2 confusion metric by hand\n",
    "# or we can use the following nice function to do so\n",
    "\n",
    "from sklearn.metrics import classification_report\n",
    "print(classification_report(actual, predicted))"
   ]
  },
  {
   "cell_type": "code",
   "execution_count": 41,
   "metadata": {},
   "outputs": [
    {
     "name": "stdout",
     "output_type": "stream",
     "text": [
      "Train on 60000 samples, validate on 10000 samples\n",
      "Epoch 1/5\n",
      "60000/60000 [==============================] - 4s 74us/step - loss: 0.4352 - accuracy: 0.8693 - val_loss: 0.4256 - val_accuracy: 0.8732\n",
      "Epoch 2/5\n",
      "60000/60000 [==============================] - 5s 82us/step - loss: 0.4135 - accuracy: 0.8761 - val_loss: 0.3880 - val_accuracy: 0.8834\n",
      "Epoch 3/5\n",
      "60000/60000 [==============================] - 5s 87us/step - loss: 0.4004 - accuracy: 0.8798 - val_loss: 0.3911 - val_accuracy: 0.8846\n",
      "Epoch 4/5\n",
      "60000/60000 [==============================] - 5s 88us/step - loss: 0.3911 - accuracy: 0.8832 - val_loss: 0.3879 - val_accuracy: 0.8887\n",
      "Epoch 5/5\n",
      "60000/60000 [==============================] - 5s 91us/step - loss: 0.3820 - accuracy: 0.8863 - val_loss: 0.3790 - val_accuracy: 0.8889\n"
     ]
    }
   ],
   "source": [
    "# Let us be lazy and use the test data \n",
    "# as \"validation data\"\n",
    "\n",
    "history = model.fit(X_train, Y_train,validation_data = (X_test,Y_test), epochs=5, batch_size=32)\n"
   ]
  },
  {
   "cell_type": "code",
   "execution_count": 44,
   "metadata": {},
   "outputs": [
    {
     "data": {
      "image/png": "[encoded data removed]",
      "text/plain": [
       "<Figure size 432x288 with 1 Axes>"
      ]
     },
     "metadata": {
      "needs_background": "light"
     },
     "output_type": "display_data"
    }
   ],
   "source": [
    "## Plotting the accuracy over time. \n",
    "\n",
    "import matplotlib.pyplot as plt\n",
    "plt.plot(history.history['accuracy'])\n",
    "plt.plot(history.history['val_accuracy'])\n",
    "plt.title('Model accuracy')\n",
    "plt.ylabel('Accuracy')\n",
    "plt.xlabel('Epoch')\n",
    "plt.legend(['Train', 'Test'], loc='upper left')\n",
    "plt.show()"
   ]
  },
  {
   "cell_type": "code",
   "execution_count": 46,
   "metadata": {},
   "outputs": [
    {
     "data": {
      "image/png": "[encoded data removed]",
      "text/plain": [
       "<Figure size 432x288 with 1 Axes>"
      ]
     },
     "metadata": {
      "needs_background": "light"
     },
     "output_type": "display_data"
    }
   ],
   "source": [
    "# Plotting the loss over time\n",
    "plt.plot(history.history['loss']) \n",
    "plt.plot(history.history['val_loss']) \n",
    "plt.title('Model loss') \n",
    "plt.ylabel('Loss') \n",
    "plt.xlabel('Epoch') \n",
    "plt.legend(['Train', 'Test'], loc='upper left') \n",
    "plt.show()"
   ]
  },
  {
   "cell_type": "code",
   "execution_count": 48,
   "metadata": {},
   "outputs": [],
   "source": [
    "# What if we wish to do K-fold \n",
    "\n",
    "def create_model():\n",
    "  model = Sequential()\n",
    "  model.add(Dense(8, input_dim = 784,activation='relu'))\n",
    "  model.add(Dense(8, activation='relu'))\n",
    "  model.add(Dense(10, activation='softmax'))\n",
    " \n",
    "  model.compile(\n",
    "  optimizer='adam',\n",
    "  loss='categorical_crossentropy',\n",
    "  metrics=['accuracy'],\n",
    "  )\n",
    "  return model\n"
   ]
  },
  {
   "cell_type": "code",
   "execution_count": 60,
   "metadata": {},
   "outputs": [
    {
     "name": "stdout",
     "output_type": "stream",
     "text": [
      "Epoch 1/2\n",
      "40000/40000 [==============================] - 3s 82us/step - loss: 1.0120 - accuracy: 0.6596\n",
      "Epoch 2/2\n",
      "40000/40000 [==============================] - 3s 71us/step - loss: 0.4992 - accuracy: 0.8515\n",
      "['loss', 'accuracy']\n",
      "20000/20000 [==============================] - 1s 36us/step\n",
      "Model evaluation  [0.44746362763643266, 0.8701000213623047]\n",
      "precision  0.871317491821363\n",
      "recall  0.8673781338269091\n",
      "Epoch 1/2\n",
      "40000/40000 [==============================] - 4s 91us/step - loss: 1.1410 - accuracy: 0.5971\n",
      "Epoch 2/2\n",
      "40000/40000 [==============================] - 3s 82us/step - loss: 0.6706 - accuracy: 0.7959\n",
      "['loss', 'accuracy']\n",
      "20000/20000 [==============================] - 1s 42us/step\n",
      "Model evaluation  [0.6369851336956024, 0.8083000183105469]\n",
      "precision  0.8096303105809597\n",
      "recall  0.8051560087138702\n",
      "Epoch 1/2\n",
      "40000/40000 [==============================] - 4s 95us/step - loss: 1.3291 - accuracy: 0.4982\n",
      "Epoch 2/2\n",
      "40000/40000 [==============================] - 3s 85us/step - loss: 1.0086 - accuracy: 0.6496\n",
      "['loss', 'accuracy']\n",
      "20000/20000 [==============================] - 1s 42us/step\n",
      "Model evaluation  [0.9166868268489837, 0.6919500231742859]\n",
      "precision  0.6864613666345776\n",
      "recall  0.6881089051712486\n"
     ]
    }
   ],
   "source": [
    "# This will only use the training data \n",
    "# and test it on each partition\n",
    "from sklearn.model_selection import KFold\n",
    " \n",
    "n_split=3\n",
    " \n",
    "# We will split the the data n_split times\n",
    "# and create and for the model with the said\n",
    "# parameters\n",
    "\n",
    "for train_index,test_index in KFold(n_split).split(X_train):\n",
    "  \n",
    "  # use the index to generate training an testing sets\n",
    "  x_train,x_test=X_train[train_index],X_train[test_index]\n",
    "  y_train,y_test=Y_train[train_index],Y_train[test_index]\n",
    "  \n",
    "  # create and fit the model\n",
    "  model=create_model()\n",
    "  model.fit(x_train, y_train,epochs=2)\n",
    "  \n",
    "  # print and show generic metrics available\n",
    "  print(model.metrics_names)\n",
    "  print('Model evaluation ',model.evaluate(x_test,y_test))\n",
    "  \n",
    "  # calculate and print own metrics\n",
    "  actual, predicted = generate_actual_predicted(model, x_test, y_test)\n",
    "  print(\"precision \",precision_score(actual, predicted, average='macro'))\n",
    "  print(\"recall \", recall_score(actual, predicted, average='macro'))\n",
    "  "
   ]
  },
  {
   "cell_type": "code",
   "execution_count": null,
   "metadata": {},
   "outputs": [],
   "source": []
  }
 ],
 "metadata": {
  "kernelspec": {
   "display_name": "Python 3",
   "language": "python",
   "name": "python3"
  },
  "language_info": {
   "codemirror_mode": {
    "name": "ipython",
    "version": 3
   },
   "file_extension": ".py",
   "mimetype": "text/x-python",
   "name": "python",
   "nbconvert_exporter": "python",
   "pygments_lexer": "ipython3",
   "version": "3.7.4"
  }
 },
 "nbformat": 4,
 "nbformat_minor": 2
}
